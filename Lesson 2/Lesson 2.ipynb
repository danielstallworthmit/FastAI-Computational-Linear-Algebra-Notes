{
 "cells": [
  {
   "cell_type": "markdown",
   "metadata": {},
   "source": [
    "# Fast.AI Computational Linear Algebra"
   ]
  },
  {
   "cell_type": "code",
   "execution_count": 25,
   "metadata": {
    "collapsed": true
   },
   "outputs": [],
   "source": [
    "# Imports\n",
    "import numpy as np\n",
    "from sklearn.datasets import fetch_20newsgroups\n",
    "from sklearn import decomposition\n",
    "from scipy import linalg\n",
    "import matplotlib.pyplot as plt"
   ]
  },
  {
   "cell_type": "code",
   "execution_count": 26,
   "metadata": {
    "collapsed": true
   },
   "outputs": [],
   "source": [
    "%matplotlib inline\n",
    "np.set_printoptions(suppress=True)"
   ]
  },
  {
   "cell_type": "markdown",
   "metadata": {},
   "source": [
    "## Topic Modeling with NMF and SVD    "
   ]
  },
  {
   "cell_type": "markdown",
   "metadata": {},
   "source": [
    "## Lesson 2"
   ]
  },
  {
   "cell_type": "code",
   "execution_count": 72,
   "metadata": {},
   "outputs": [],
   "source": [
    "# Get Newsgroups data from sklearn\n",
    "categories = ['alt.atheism', 'talk.religion.misc', 'comp.graphics','sci.space']\n",
    "remove = ['headers','footers','quotes']\n",
    "newsgroups_train = fetch_20newsgroups(subset='train', \n",
    "                                     categories=categories,\n",
    "                                     remove=remove)\n",
    "newsgroups_test = fetch_20newsgroups(subset='test', \n",
    "                                     categories=categories,\n",
    "                                     remove=remove)"
   ]
  },
  {
   "cell_type": "code",
   "execution_count": 73,
   "metadata": {},
   "outputs": [
    {
     "data": {
      "text/plain": [
       "((2034,), (2034,))"
      ]
     },
     "execution_count": 73,
     "metadata": {},
     "output_type": "execute_result"
    }
   ],
   "source": [
    "newsgroups_train.filenames.shape, newsgroups_train.target.shape"
   ]
  },
  {
   "cell_type": "code",
   "execution_count": 74,
   "metadata": {},
   "outputs": [
    {
     "data": {
      "text/plain": [
       "dict_keys(['data', 'filenames', 'target_names', 'target', 'DESCR', 'description'])"
      ]
     },
     "execution_count": 74,
     "metadata": {},
     "output_type": "execute_result"
    }
   ],
   "source": [
    "newsgroups_train.keys()"
   ]
  },
  {
   "cell_type": "code",
   "execution_count": 75,
   "metadata": {},
   "outputs": [
    {
     "name": "stdout",
     "output_type": "stream",
     "text": [
      "Hi,\n",
      "\n",
      "I've noticed that if you only save a model (with all your mapping planes\n",
      "positioned carefully) to a .3DS file that when you reload it after restarting\n",
      "3DS, they are given a default position and orientation.  But if you save\n",
      "to a .PRJ file their positions/orientation are preserved.  Does anyone\n",
      "know why this information is not stored in the .3DS file?  Nothing is\n",
      "explicitly said in the manual about saving texture rules in the .PRJ file. \n",
      "I'd like to be able to read the texture rule information, does anyone have \n",
      "the format for the .PRJ file?\n",
      "\n",
      "Is the .CEL file format available from somewhere?\n",
      "\n",
      "Rych\n",
      "\n",
      "\n",
      "Seems to be, barring evidence to the contrary, that Koresh was simply\n",
      "another deranged fanatic who thought it neccessary to take a whole bunch of\n",
      "folks with him, children and all, to satisfy his delusional mania. Jim\n",
      "Jones, circa 1993.\n",
      "\n",
      "\n",
      "Nope - fruitcakes like Koresh have been demonstrating such evil corruption\n",
      "for centuries.\n",
      "\n",
      " >In article <1993Apr19.020359.26996@sq.sq.com>, msb@sq.sq.com (Mark Brader) \n",
      "\n",
      "MB>                                                             So the\n",
      "MB> 1970 figure seems unlikely to actually be anything but a perijove.\n",
      "\n",
      "JG>Sorry, _perijoves_...I'm not used to talking this language.\n",
      "\n",
      "Couldn't we just say periapsis or apoapsis?\n",
      "\n",
      " \n"
     ]
    }
   ],
   "source": [
    "# First 3 items in data\n",
    "print('\\n'.join(newsgroups_train.data[:3]))"
   ]
  },
  {
   "cell_type": "code",
   "execution_count": 76,
   "metadata": {},
   "outputs": [
    {
     "data": {
      "text/plain": [
       "array(['comp.graphics', 'talk.religion.misc', 'sci.space'], \n",
       "      dtype='<U18')"
      ]
     },
     "execution_count": 76,
     "metadata": {},
     "output_type": "execute_result"
    }
   ],
   "source": [
    "np.array(newsgroups_train.target_names)[newsgroups_train.target[:3]]"
   ]
  },
  {
   "cell_type": "code",
   "execution_count": 77,
   "metadata": {},
   "outputs": [
    {
     "data": {
      "text/plain": [
       "array([1, 3, 2, 0, 2, 0, 2, 1, 2, 1])"
      ]
     },
     "execution_count": 77,
     "metadata": {},
     "output_type": "execute_result"
    }
   ],
   "source": [
    "newsgroups_train.target[:10]"
   ]
  },
  {
   "cell_type": "code",
   "execution_count": 78,
   "metadata": {
    "collapsed": true
   },
   "outputs": [],
   "source": [
    "num_topics, num_top_words = 6,8"
   ]
  },
  {
   "cell_type": "code",
   "execution_count": 79,
   "metadata": {
    "collapsed": true
   },
   "outputs": [],
   "source": [
    "from sklearn.feature_extraction.text import CountVectorizer, TfidfVectorizer"
   ]
  },
  {
   "cell_type": "code",
   "execution_count": 80,
   "metadata": {},
   "outputs": [
    {
     "data": {
      "text/plain": [
       "(2034, 26576)"
      ]
     },
     "execution_count": 80,
     "metadata": {},
     "output_type": "execute_result"
    }
   ],
   "source": [
    "# Count non-stop words using a dense matrix (to make it easier for this exercise)\n",
    "vectorizer = CountVectorizer(stop_words='english')\n",
    "vectors = vectorizer.fit_transform(newsgroups_train.data).todense()\n",
    "vectors.shape"
   ]
  },
  {
   "cell_type": "code",
   "execution_count": 81,
   "metadata": {},
   "outputs": [
    {
     "name": "stdout",
     "output_type": "stream",
     "text": [
      "2034 (2034, 26576)\n"
     ]
    }
   ],
   "source": [
    "print(len(newsgroups_train.data), vectors.shape)"
   ]
  },
  {
   "cell_type": "code",
   "execution_count": 82,
   "metadata": {
    "collapsed": true
   },
   "outputs": [],
   "source": [
    "vocab = np.array(vectorizer.get_feature_names())"
   ]
  },
  {
   "cell_type": "code",
   "execution_count": 83,
   "metadata": {},
   "outputs": [
    {
     "data": {
      "text/plain": [
       "(26576,)"
      ]
     },
     "execution_count": 83,
     "metadata": {},
     "output_type": "execute_result"
    }
   ],
   "source": [
    "vocab.shape"
   ]
  },
  {
   "cell_type": "code",
   "execution_count": 84,
   "metadata": {},
   "outputs": [
    {
     "data": {
      "text/plain": [
       "array(['cosmonauts', 'cosmos', 'cosponsored', 'cost', 'costa', 'costar', 'costing', 'costly',\n",
       "       'costruction', 'costs', 'cosy', 'cote', 'couched', 'couldn', 'council', 'councils',\n",
       "       'counsel', 'counselees', 'counselor', 'count'], \n",
       "      dtype='<U80')"
      ]
     },
     "execution_count": 84,
     "metadata": {},
     "output_type": "execute_result"
    }
   ],
   "source": [
    "vocab[7000:7020]"
   ]
  },
  {
   "cell_type": "markdown",
   "metadata": {},
   "source": [
    "### Singular Value Decomposition (SVD)"
   ]
  },
  {
   "cell_type": "code",
   "execution_count": 85,
   "metadata": {},
   "outputs": [
    {
     "name": "stdout",
     "output_type": "stream",
     "text": [
      "CPU times: user 1min 37s, sys: 6.96 s, total: 1min 44s\n",
      "Wall time: 1min 6s\n"
     ]
    }
   ],
   "source": [
    "# Orthomormal -> Dot product with itself is 1, dot product with other vectors is 0\n",
    "# Orthogonal matrix -> Columns and rows are orthonormal\n",
    "# A = U∑V^T -> U orthogonal, ∑ relative importance (singular values), V^T rows are orthonormal\n",
    "# Want to capture very different features\n",
    "%time U, s, Vh = linalg.svd(vectors, full_matrices=False)"
   ]
  },
  {
   "cell_type": "code",
   "execution_count": 86,
   "metadata": {},
   "outputs": [
    {
     "name": "stdout",
     "output_type": "stream",
     "text": [
      "(2034, 2034) (2034,) (2034, 26576)\n"
     ]
    }
   ],
   "source": [
    "print(U.shape, s.shape, Vh.shape)"
   ]
  },
  {
   "cell_type": "markdown",
   "metadata": {},
   "source": [
    "#### Check if U,s,Vh is SVD of vectors"
   ]
  },
  {
   "cell_type": "code",
   "execution_count": 87,
   "metadata": {},
   "outputs": [
    {
     "data": {
      "text/plain": [
       "True"
      ]
     },
     "execution_count": 87,
     "metadata": {},
     "output_type": "execute_result"
    }
   ],
   "source": [
    "# Take a vector and make square matrix using diag\n",
    "# Norm to get to one number\n",
    "reconstructed_vectors = U @ np.diag(s) @ Vh\n",
    "# np.linalg.norm(reconstructed_vectors - vectors)\n",
    "np.allclose(reconstructed_vectors, vectors)"
   ]
  },
  {
   "cell_type": "markdown",
   "metadata": {},
   "source": [
    "#### Confirm U and Vh are orthonormal"
   ]
  },
  {
   "cell_type": "code",
   "execution_count": 88,
   "metadata": {},
   "outputs": [
    {
     "data": {
      "text/plain": [
       "True"
      ]
     },
     "execution_count": 88,
     "metadata": {},
     "output_type": "execute_result"
    }
   ],
   "source": [
    "# Multiply by the transpose and compare to identity\n",
    "np.allclose(U.T @ U, np.eye(U.shape[0]))\n",
    "np.allclose(Vh @ Vh.T, np.eye(Vh.shape[0]))"
   ]
  },
  {
   "cell_type": "markdown",
   "metadata": {},
   "source": [
    "#### Singular values (importance)"
   ]
  },
  {
   "cell_type": "code",
   "execution_count": 89,
   "metadata": {},
   "outputs": [
    {
     "data": {
      "image/png": "[encoded data removed]",
      "text/plain": [
       "<matplotlib.figure.Figure at 0x11c1e9b38>"
      ]
     },
     "metadata": {},
     "output_type": "display_data"
    }
   ],
   "source": [
    "plt.plot(s);"
   ]
  },
  {
   "cell_type": "code",
   "execution_count": 90,
   "metadata": {},
   "outputs": [
    {
     "data": {
      "image/png": "[encoded data removed]",
      "text/plain": [
       "<matplotlib.figure.Figure at 0x11d9d8320>"
      ]
     },
     "metadata": {},
     "output_type": "display_data"
    }
   ],
   "source": [
    "plt.plot(s[:10]);"
   ]
  },
  {
   "cell_type": "markdown",
   "metadata": {},
   "source": [
    "#### Find largest word values for topics"
   ]
  },
  {
   "cell_type": "code",
   "execution_count": 91,
   "metadata": {
    "collapsed": true
   },
   "outputs": [],
   "source": [
    "num_top_words = 8\n",
    "def show_topics(a):\n",
    "    top_words = lambda t: [vocab[i] for i in np.argsort(t)[:-num_top_words-1:-1]]\n",
    "    topic_words = ([top_words(t) for t in a])\n",
    "    return [' '.join(t) for t in topic_words]"
   ]
  },
  {
   "cell_type": "code",
   "execution_count": 92,
   "metadata": {},
   "outputs": [
    {
     "data": {
      "text/plain": [
       "['critus ditto propagandist surname galacticentric kindergarten surreal imaginative',\n",
       " 'jpeg gif file color quality image jfif format',\n",
       " 'graphics edu pub mail 128 3d ray ftp',\n",
       " 'jesus god matthew people atheists atheism does graphics',\n",
       " 'image data processing analysis software available tools display',\n",
       " 'god atheists atheism religious believe religion argument true',\n",
       " 'space nasa lunar mars probe moon missions probes',\n",
       " 'image probe surface lunar mars probes moon orbit',\n",
       " 'argument fallacy conclusion example true ad argumentum premises',\n",
       " 'space larson image theory universe physical nasa material']"
      ]
     },
     "execution_count": 92,
     "metadata": {},
     "output_type": "execute_result"
    }
   ],
   "source": [
    "show_topics(Vh[:10])"
   ]
  },
  {
   "cell_type": "markdown",
   "metadata": {},
   "source": [
    "### Non-negative Matrix Factorization (NMF)"
   ]
  },
  {
   "cell_type": "code",
   "execution_count": 93,
   "metadata": {
    "collapsed": true
   },
   "outputs": [],
   "source": [
    "m,n = vectors.shape\n",
    "d = 5"
   ]
  },
  {
   "cell_type": "code",
   "execution_count": 94,
   "metadata": {
    "collapsed": true
   },
   "outputs": [],
   "source": [
    "clf = decomposition.NMF(n_components=d, random_state=1)"
   ]
  },
  {
   "cell_type": "code",
   "execution_count": 95,
   "metadata": {
    "collapsed": true
   },
   "outputs": [],
   "source": [
    "W1 = clf.fit_transform(vectors)\n",
    "H1 = clf.components_"
   ]
  },
  {
   "cell_type": "code",
   "execution_count": 96,
   "metadata": {},
   "outputs": [
    {
     "data": {
      "text/plain": [
       "['jpeg image gif file color images format quality',\n",
       " 'edu graphics pub mail 128 ray ftp send',\n",
       " 'space launch satellite nasa commercial satellites year market',\n",
       " 'jesus god people matthew atheists does atheism said',\n",
       " 'image data available software processing ftp edu analysis']"
      ]
     },
     "execution_count": 96,
     "metadata": {},
     "output_type": "execute_result"
    }
   ],
   "source": [
    "show_topics(H1)"
   ]
  },
  {
   "cell_type": "markdown",
   "metadata": {},
   "source": [
    "#### TFIDF"
   ]
  },
  {
   "cell_type": "code",
   "execution_count": 97,
   "metadata": {
    "collapsed": true
   },
   "outputs": [],
   "source": [
    "# TF = (# occurrences of term t in document) / (# of words in documents)\n",
    "# IDF = log(# of documents / # documents with term t in it)\n",
    "# Advantage is it is Fast\n",
    "vectorizer_tfidf = TfidfVectorizer(stop_words='english')\n",
    "vectors_tfidf = vectorizer_tfidf.fit_transform(newsgroups_train.data)"
   ]
  },
  {
   "cell_type": "code",
   "execution_count": 98,
   "metadata": {
    "collapsed": true
   },
   "outputs": [],
   "source": [
    "W1 = clf.fit_transform(vectors_tfidf)\n",
    "H1 = clf.components_"
   ]
  },
  {
   "cell_type": "code",
   "execution_count": 99,
   "metadata": {},
   "outputs": [
    {
     "data": {
      "text/plain": [
       "['people don think just like objective say morality',\n",
       " 'graphics thanks files image file program windows know',\n",
       " 'space nasa launch shuttle orbit moon lunar earth',\n",
       " 'ico bobbe tek beauchaine bronx manhattan sank queens',\n",
       " 'god jesus bible believe christian atheism does belief']"
      ]
     },
     "execution_count": 99,
     "metadata": {},
     "output_type": "execute_result"
    }
   ],
   "source": [
    "show_topics(H1)"
   ]
  },
  {
   "cell_type": "code",
   "execution_count": 100,
   "metadata": {},
   "outputs": [
    {
     "data": {
      "image/png": "[encoded data removed]",
      "text/plain": [
       "<matplotlib.figure.Figure at 0x11d9e4470>"
      ]
     },
     "metadata": {},
     "output_type": "display_data"
    }
   ],
   "source": [
    "plt.plot(clf.components_[0]);"
   ]
  },
  {
   "cell_type": "code",
   "execution_count": 101,
   "metadata": {},
   "outputs": [
    {
     "data": {
      "text/plain": [
       "43.7129"
      ]
     },
     "execution_count": 101,
     "metadata": {},
     "output_type": "execute_result"
    }
   ],
   "source": [
    "clf.reconstruction_err_"
   ]
  },
  {
   "cell_type": "markdown",
   "metadata": {},
   "source": [
    "### NMF using SGD"
   ]
  },
  {
   "cell_type": "markdown",
   "metadata": {},
   "source": [
    "#### Gradient Descent Intro"
   ]
  },
  {
   "cell_type": "code",
   "execution_count": 18,
   "metadata": {
    "collapsed": true
   },
   "outputs": [],
   "source": [
    "import math,sys,os,numpy as np\n",
    "from numpy.random import random\n",
    "from matplotlib import pyplot as plt, rcParams, animation, rc\n",
    "from ipywidgets import interact, interactive, fixed\n",
    "from ipywidgets.widgets import *\n",
    "rc('animation', html='html5')\n",
    "rcParams['figure.figsize'] = 3,3\n",
    "%precision 4\n",
    "np.set_printoptions(precision=4, linewidth=100)"
   ]
  },
  {
   "cell_type": "code",
   "execution_count": 61,
   "metadata": {
    "collapsed": true
   },
   "outputs": [],
   "source": [
    "def lin(a,b,x): return a*x+b"
   ]
  },
  {
   "cell_type": "code",
   "execution_count": 62,
   "metadata": {
    "collapsed": true
   },
   "outputs": [],
   "source": [
    "a=3; b=8"
   ]
  },
  {
   "cell_type": "code",
   "execution_count": 63,
   "metadata": {
    "collapsed": true
   },
   "outputs": [],
   "source": [
    "n=30; x = random(n) ; y = lin(a,b,x)"
   ]
  },
  {
   "cell_type": "code",
   "execution_count": 64,
   "metadata": {},
   "outputs": [
    {
     "data": {
      "text/plain": [
       "array([ 0.8696,  0.7865,  0.2902,  0.7865,  0.0841,  0.3567,  0.1198,  0.859 ,  0.2131,  0.7349,\n",
       "        0.9373,  0.2843,  0.4793,  0.7543,  0.0087,  0.7409,  0.5969,  0.1996,  0.1215,  0.0419,\n",
       "        0.5478,  0.827 ,  0.6274,  0.3499,  0.8594,  0.2713,  0.3064,  0.3562,  0.7358,  0.623 ])"
      ]
     },
     "execution_count": 64,
     "metadata": {},
     "output_type": "execute_result"
    }
   ],
   "source": [
    "x"
   ]
  },
  {
   "cell_type": "code",
   "execution_count": 65,
   "metadata": {},
   "outputs": [
    {
     "data": {
      "text/plain": [
       "array([ 10.6088,  10.3594,   8.8705,  10.3594,   8.2524,   9.0701,   8.3593,  10.577 ,   8.6393,\n",
       "        10.2046,  10.812 ,   8.853 ,   9.4379,  10.263 ,   8.0261,  10.2228,   9.7906,   8.5989,\n",
       "         8.3645,   8.1256,   9.6435,  10.4809,   9.8823,   9.0496,  10.5782,   8.814 ,   8.9193,\n",
       "         9.0685,  10.2075,   9.8691])"
      ]
     },
     "execution_count": 65,
     "metadata": {},
     "output_type": "execute_result"
    }
   ],
   "source": [
    "y"
   ]
  },
  {
   "cell_type": "code",
   "execution_count": 66,
   "metadata": {},
   "outputs": [
    {
     "data": {
      "image/png": "[encoded data removed]",
      "text/plain": [
       "<matplotlib.figure.Figure at 0x11c5934e0>"
      ]
     },
     "metadata": {},
     "output_type": "display_data"
    }
   ],
   "source": [
    "plt.scatter(x,y);"
   ]
  },
  {
   "cell_type": "code",
   "execution_count": 67,
   "metadata": {
    "collapsed": true
   },
   "outputs": [],
   "source": [
    "def sse(y,y_pred): return ((y-y_pred)**2).sum()\n",
    "def loss(y,a,b,x): return sse(y,lin(a,b,x))\n",
    "def avg_loss(y,a,b,x): return np.sqrt(loss(y,a,b,x)/n)"
   ]
  },
  {
   "cell_type": "code",
   "execution_count": 68,
   "metadata": {},
   "outputs": [
    {
     "data": {
      "text/plain": [
       "9.0421"
      ]
     },
     "execution_count": 68,
     "metadata": {},
     "output_type": "execute_result"
    }
   ],
   "source": [
    "a_guess = -1; b_guess = 1; avg_loss(y,a_guess,b_guess,x)"
   ]
  },
  {
   "cell_type": "code",
   "execution_count": 69,
   "metadata": {
    "collapsed": true
   },
   "outputs": [],
   "source": [
    "lr = 0.05"
   ]
  },
  {
   "cell_type": "code",
   "execution_count": 70,
   "metadata": {
    "collapsed": true
   },
   "outputs": [],
   "source": [
    "def upd():\n",
    "    global a_guess, b_guess\n",
    "    # Make prediction using current weights\n",
    "    y_pred = lin(a_guess, b_guess, x)\n",
    "    # Calculate the change of the loss\n",
    "    dydb = 2*(y_pred - y)\n",
    "    dyda = x*dydb\n",
    "    # Update the weights in the direction of steepest change\n",
    "    a_guess -= lr*dyda.mean()\n",
    "    b_guess -= lr*dydb.mean()"
   ]
  },
  {
   "cell_type": "code",
   "execution_count": 71,
   "metadata": {},
   "outputs": [
    {
     "data": {
      "text/html": [
       "<video width=\"500\" height=\"400\" controls autoplay loop>\n",
       "  <source type=\"video/mp4\" src=\"data:video/mp4;base64,AAAAHGZ0eXBNNFYgAAACAGlzb21pc28yYXZjMQAAAAhmcmVlAAA4km1kYXQAAAKuBgX//6rcRem9\n",
       "5tlIt5Ys2CDZI+7veDI2NCAtIGNvcmUgMTQ4IHIyNzk1IGFhYTlhYTggLSBILjI2NC9NUEVHLTQg\n",
       "QVZDIGNvZGVjIC0gQ29weWxlZnQgMjAwMy0yMDE3IC0gaHR0cDovL3d3dy52aWRlb2xhbi5vcmcv\n",
       "eDI2NC5odG1sIC0gb3B0aW9uczogY2FiYWM9MSByZWY9MyBkZWJsb2NrPTE6MDowIGFuYWx5c2U9\n",
       "MHgzOjB4MTEzIG1lPWhleCBzdWJtZT03IHBzeT0xIHBzeV9yZD0xLjAwOjAuMDAgbWl4ZWRfcmVm\n",
       "PTEgbWVfcmFuZ2U9MTYgY2hyb21hX21lPTEgdHJlbGxpcz0xIDh4OGRjdD0xIGNxbT0wIGRlYWR6\n",
       "b25lPTIxLDExIGZhc3RfcHNraXA9MSBjaHJvbWFfcXBfb2Zmc2V0PS0yIHRocmVhZHM9NiBsb29r\n",
       "YWhlYWRfdGhyZWFkcz0xIHNsaWNlZF90aHJlYWRzPTAgbnI9MCBkZWNpbWF0ZT0xIGludGVybGFj\n",
       "ZWQ9MCBibHVyYXlfY29tcGF0PTAgY29uc3RyYWluZWRfaW50cmE9MCBiZnJhbWVzPTMgYl9weXJh\n",
       "bWlkPTIgYl9hZGFwdD0xIGJfYmlhcz0wIGRpcmVjdD0xIHdlaWdodGI9MSBvcGVuX2dvcD0wIHdl\n",
       "aWdodHA9MiBrZXlpbnQ9MjUwIGtleWludF9taW49MTAgc2NlbmVjdXQ9NDAgaW50cmFfcmVmcmVz\n",
       "aD0wIHJjX2xvb2thaGVhZD00MCByYz1jcmYgbWJ0cmVlPTEgY3JmPTIzLjAgcWNvbXA9MC42MCBx\n",
       "cG1pbj0wIHFwbWF4PTY5IHFwc3RlcD00IGlwX3JhdGlvPTEuNDAgYXE9MToxLjAwAIAAABQdZYiE\n",
       "ABD//veBvzLLXyK6yXH5530srM885DxyXYmuuNAAAAMAAAMCdMWy7nddDaYdgAACrC//BZK6ahGr\n",
       "0ObptBzdAao9gCofA/VRwurjKoRmcfZ4P89EfCR1wzLZq9ex9wXT3lXb9HtVEyiJmKUDLAyUGZ78\n",
       "WDze8rjdIZEWmgjfDAAZPWoQqiESaTaPHVXrKCGUjfI5ICYr2+Ha7ggTLPMXNlahuzSV/ALZYYIj\n",
       "3av9uKGMQj/y4T5JndS6YRn3DwtFReKluTP336jxEmehX6paRMShsnUBMesElYXFb1HUXFl5IPZX\n",
       "zqeJpG1iEM9Tw2QkSJYW8sS/eJNqIAtqNpgCQSdPP4e3Gqx65L7TJbfIpV6hjdxQibs2TZ4Xda+D\n",
       "+Yn8N2ul8g0+AYwJenctWi3ePIfGMEFyZUnG1kvQ9Gz9iVsnAqZMlyWMcT10D0ZY+zlsYV+9usYg\n",
       "dbWAA6AvvjLOoKghBfeMkxG1W/Qx2noZSESVu88dyLfzUvmybEEP5MJdc171yXSEmcxGHJxiV5Mt\n",
       "3+vx0j6elNXEQueQmwXI3eUVMsO1Mm0yx9vpVE2ycyKJTceRTPwy/x0mjKQ/fGZXy4WIT8D3+tpw\n",
       "kcITM3H3WbXe0pVQdst2P9czVit4jb9b6NHmuNq6TUfQO7iZfYhtcvj90XkbF8ljCmnKR3Lopp5X\n",
       "035sP5fEwEcUe6rVOgy6U1yji+igMSf2F4F9jMqvhhk5bYFrJnCPk3UzuUdcQARS5BbsCI8L8t2S\n",
       "eJmepEba5I+DAmGfW1VUaJVKvebIBq6qAQ1XJxqDKOuxZk1FZAuP4k/UyckLJmmoPWpl2g4HaT9i\n",
       "OGyrHxwvywHFBJssWd/l48Cy5sk8+in3PHr57JurHnp7jYEHk95d8vctPYM6U5aceEbxVTDtC3CB\n",
       "b6kq0suiUr/xMQyD7mp+iaqGEMHIYFFOJRuZ6qN952YXK1ZH8WuOOKkGj0Vg9aydnjvf5JvI3lDa\n",
       "g0jxRvbOK/wFou87vvvaHd6welOgaiPTwZzcvZ/qg58Bu6/IcfwDrqI7vXQcH9WBnr4/OGkmxzUj\n",
       "IQuHYLiE3AglNi8W4C0WzSB+wOLrtrT0HLFubmF72b2Y9NgkO0Q/EqotE+n8L+6HDmUYW1Ms8Li7\n",
       "lpk2smGGFqWar/54d6uEaRYxJ66sbWn6H/dkQvuWOjKckZ59DNMyRTFVlCSXEQ9/0atSTYSazT6o\n",
       "xMwNx9EdJNqnrAgoGPp7gYw7LkcUAT5yfRPG7ZSpksrGoguqp234aUW1MG2E3EVcJM7f/4tVdhXb\n",
       "8qj+kv6YNlXKn1mPqyzG0pRf21CPoXGdXNDhJ+5oL5gTZUllDFU0cfv7K640kPK/Dmnr/XOt9L/e\n",
       "4AojWt1z1BPZjAPn1PD15XhHcACSigdfRtMjtu4aDpnzfBUpwjbiXNHMcvFQA42GpxCMD11Luc8/\n",
       "j1J3f1G6zFnb0TD0br643RS8xhHRXjmnTNcW3lW1bPYrA+/BH4dup6nYPnHhBtSGHI+2o7XhyO+B\n",
       "gC/rWDneasVCXyMdC1Zlw8HkaDQ6EIVj2TzWULACYSbupfojfBHPHrUTCmzWYJW7dy2weHgyNy3R\n",
       "1owpvoIzc7tWFOeiDmjoLCm4GCz3Tzn/gLZwkPk2uiyWxqWMGrben3r645zVf4pRmgHDjnWZKk3Q\n",
       "mDyAR4XEzeMdcFfNwqlInYqaJaTLAnyiNUAMZWE5GiASPJjQSSs32kkO4XxCEORNhmPztZWL1qYy\n",
       "EMkPfr5LO9vu0e6fjWcOkZQOheAwAdrCOpjhRPsJX/eQ/FeS/etj/uCvi5dsY437xcEBL0A+Hw8y\n",
       "sefsYf//sH///8/jE288OcAFn/244SjHs5cWomay5HuRxdGVnXkeZ6PFSbQ3uviHT+9OgI31c/tR\n",
       "mTekuGpjlaBlPjJQaU02sMId1U4VE7ecGymSUo2qJJdHgZKvWsF18ZGhI1X3mEB0OYDsbl9c7HCC\n",
       "HCdCyZS+5e5WO05HlLT85Ly7SJSW3DH8EdoblmTcLCvzsBKeY57iPxcdeOd7PjoHLRm0Hm8REd/P\n",
       "erkPolJ8N7rkbE+rBygURc7xPjbt0hbIkgBmGKyYeS1xEtGenaRhDDgIzNBwFlIikIl32JnLmjTD\n",
       "0m36Hyo6maDZziGIMH3tnCp0rMlQJn8zJIQKdFMdzZIu0bv5u+jc1RQhkyMNSOaQ6b3+s6o+0Y5H\n",
       "zKLbm82sdqvBeA87ZG9YDHD699uRTIAdqKTZtAVMme/nNRGfwm2lcoOPv90thQIzRJGeNg49DI9/\n",
       "Xwmhi/6TbhmQaRsvKD+nqppLnmigoRZfC8KA2c/N8tjteq8Xtc0Se26rthoDmRPoG+S5ygIgrq1E\n",
       "XGfitgsB3O71jP9ak025Cx9Oukb91W7bag3qBVgkp/yu5GZ3b2UwqSATzwoQXCoJVwe9rLBInQ6f\n",
       "uY1dhEr29AW3/SXk/rBu8wMW0i7HA1sWxX3C1kIzKATxy+0gZufD3Qf9HkPAXk8iDndfjkSeZ2dT\n",
       "z4aRnmPB2dgBTmQgEEJJgwI4a2ah6n8SAxSBzqyxzaBnsV3/HQf8VWAnyXVDba7L+MUKdNZP1h0o\n",
       "ZJ1mwMWR2tNQW0VJwuATgbVTCUxdh7bPcZJ/rVFOINRA31EFFhTIaDd8UwtsduB8meEOnuCBckWL\n",
       "vQjWmfo/pf2Y6IowpqE6UmbPfPDRIRS8SH3pA8TtwI6tiqpgKzJEhN2Nfc/M+tA/pC3KC/UeLvv1\n",
       "wcsR7cDxODTMzr/LH0F4oPeOxoa4cdrsE5GCOEGFLcAnTjnAQONI6xx73Jh8j6AfbmCjT9vGiij5\n",
       "P8VZ9rW0SC9UHDrnsngbNiA0+EF3kikpXnB4uKB7nGBxmVG6Q0MesW0Ykaw+ksaLcqv8lhZwdj+B\n",
       "hPbitozubsp+na8n4/WEK0wZzmNf1dLL9RUDRa214lvt/NYnKnGMMG6MaB+VdMljE2CTS5FRJncO\n",
       "v3p+ZyYbsNLYHzYEZCHKvzGd+n3+9KSnEeGIBAzin8CSrwGkTB8aE2FIOiBWiGvERulLHll2BPDO\n",
       "UXpfY38H3lqUJ3HPUJJTvTkpg5mpnB58zxZHra3a+QTogQSkBnJ4PIhYKsnHMcUa0iAYd2dwlN1w\n",
       "3jrHeUTqUxrwP/sMrOhikxY/AKCAcHvEw1JV9dSRhYPNrqDQg2skCYzGBgdIJrDvIwXPl8chykXc\n",
       "YicifV7JsDuE4SAHtL6bv0MyqEzqoXw6j+SpiNjQKom4voh51xw8+sYB/MOGDMArfXprU/4appur\n",
       "1DHXXEYqIB8GeJeGwLS+9I1Vuxo8A53Dsf/v04ZEHIsD4QJLwxWX2Mvw3wrhE7sD4w+9bp5iEjx3\n",
       "e4ASbxxL1sWG4m7a4kFW63bYRSiS5p+yf2jpf3SePlu5zMPTzBnsVYEOOFVhv3Lqb8u1fL4M8/B0\n",
       "7kl8TMCdPJr3kkQ0KxQHCgvu8FKOfEfpVFI3AIxUbdkcZFA3746n82GXAeIzKr1ij+PVBgVDplOL\n",
       "ig4xcJ6/l8z2EoV42cpiGHCCmVRduR9bDQXf+ijpbZFN3YpcowaCLRABqhnGMjVSjU2WECCX2p9g\n",
       "7LHmsg5H1PMUhcniaah8gm0VgLZpw4Ad2gHC90Qeg08Z5L1BU4v1gSA6Qr3bQxBJsAiiJv0HodgQ\n",
       "qtwsz1lRAVo+kpA6GfO4kuFoLP+md0H5Ikoh/OH6iXauyWbhwyAFBiXPyDFwi2FFioDi4OVyFp/A\n",
       "txg/swMvkTcUFhBVgVzTzq/j7XHNr44Z54djGK6jOL+H2VQWdkUoNgeo+zXdiQUhUQ0OdnSrn0AT\n",
       "T8bvAr1EN6+mWDCySh4bkX9HRlWoK25whJmR7D+FNFJ71SQuToMPR62MQfYJ/7tYYFjXNaA/SV41\n",
       "ucKKdyVUn+fFPm8zW5HjBgW9LnjV3ZV6sFXCPB4DxJzTbC7KYM5c/EG3lOXXMKDCYFxi+3+qhDWb\n",
       "5QTtTVQ1DhbMCaqVixs37RJ+AeeJ38LKppVnJLJZ4MYg16oeZZ0TXoK1gIWlw0inoHhPh6JwUc58\n",
       "Uhg5BaGvjBaHdOk8917N5qleEjlccyX2zLX0bAZ142W3+WBjP850ZTP6h+RS9MyyMhrFlvtoJ8S+\n",
       "a33b9LdeuUgjo35bk2lDTYhFS9Iek0PJc2OO79etiI8QU3czzVq711rMTgcHZrlbJBNiZu7aGV32\n",
       "iq/MmgxiaJnzUgFSMztsah4Es93FUehwKvyegfRLt4gVxQ8LPUV12D5z9D9+H1sMpP8h7aDmygYI\n",
       "2AFx9xUKCpp+RpdHrWQOa1uw9SymjWCNQCOhnSz3afDBleiGlgElMToSqJ54M3v/cNsxQ5BfvmWC\n",
       "m9nots9VcaAKAo15cufsulAKgpXbbbBMEFSVBsRylQV8nffOxx0cCPAUx8gDlQlYx6GhgUqsIDJw\n",
       "5k7R6Lhkz34Ga0Kh+NlDpvPH2GcPiFJur6HKTCASIYg58hmIsLnv73Y0F3WO7pC2ld/bLr8kEaOW\n",
       "gEI0iWOkmql0jHEdwS8XGlh4FiMjfS+eOvQcEfn8JTsZgVk1tcrgteOHNYvSGiisPVHfhc7aEHll\n",
       "7PxSGPG+x6IFJGQcPhH24Eu90wKg3jnm1N4Rnb7XMC0Yc6CNQ0Psv8IvTcNpSySsWtbRGGgQE8OY\n",
       "kYE+Pn30ZXwpOsy+XXuvtqhplq5EmHSLFjorzL3q/Dil6H7CG+sxa+DZ/TaVM5p8mVOemf3nQE8Z\n",
       "t0e1tCbDJU7aDORqjwoVMUyh9DiMUetq0fRuC1MReJM0Ox+OteFZxLqM9IhXWACpm+RWxTLRukMd\n",
       "uOzfcmEYhIuEeBJDsACAMAApk/RB27zbcu47cAs5dYONOlwoOqaqAHa4TUmHwujWOB/6MfotXypU\n",
       "ltd+tcfMg0LT/+p82mC6Wlap/Ys9D78R+eBS5el+5LTxQNIiiNCrAwFK+G9fHGVYOtVdXKN/baWk\n",
       "4+ow0ykiQAith3T51cWBkQ0uXrs3v9OEfu/BAYJ0byU6AOV6/AAx+VN/8QYHvZkiUenaEQKDh1Fj\n",
       "DaHYtPEZVQJJV4DbWarN+L4WzBGUxBclzo9cRI9sKt1p8L8s84nSkDXk0ipjKAl4EYpJIkBurtrn\n",
       "FSDyyhtMd7EvIcce23jSSdTbXUxEWQAqJi8oQ9VhJj0S8Kk56nofq71vx7M5rAAB9rp3GYsgP6uR\n",
       "y8MaGKA/PqnKggeynVDjGpndq3ziXayXbGoyrltqt7teUwYdq0AHM2vqq3i9zQ1AChUiWU/gaOAS\n",
       "kinuPx/Tdju9NGN+gHBbkQyMNXu2I1XYUjW2hxML28sWcIgKDX4eP097+15kP+XR1e2o0aD2NJGM\n",
       "1vhgNqyCHF2pIcdCTewvrQJPeVzK9zgOo+IQk5p/ylsmF4RokdVUqsO1wZXkYNkzjKtkL5N3PlZ6\n",
       "ScnJARK0l9Ct5u25jZSB78Lfa3KPvxqweAkgvK+p92rCkjKoK1l9DePQ8W96//BLGbAd5wcgRhHa\n",
       "acHJ/OovveVW0Veysw6+P8nbLYg1B+LFBd1HhfZBurF19PJ1tcfXA51h3DGxc62WMnrS/IP46h3g\n",
       "28cHh9RKInJu8E5ZVsxpaovjPSyrWScUQ0K/XNW5CiOfKYFKfDrGBVHQmMRRIfCnDMHnygjBATaw\n",
       "Y2z6xwZvnIifLGIRCK0r+oFr9v1PKFChRlxAC+y+nWbh8BYFaGHowR37vUH/TxydUZB74NLQeEXh\n",
       "HHy0TcYvE/jowJ7MhpHJ40Zv44gLDNK2UWctTHDUovNcHyloLWH/5xLRKUeSDtbVipKnnvR5eGiD\n",
       "leZ7ohUKGRjwCikTgs1vQauvQ7cJg6B2jfr9DsjPAahP6j/s/0ACw39AHztWWsenXv91Wqn4h+ol\n",
       "6+0j5LJYB8XIXxRUY3UwxzSbcHjafLFLqys1ef4tPUlS4bW1gQt+BJNp3c8wgRVVtJ78CjtoOKOB\n",
       "a5LrZNZYFJoUhUsCdezmYesrUX5P1Ai7vk8kRq1W+cGSrpUP3/GFHZfZOM9NtXXcab4H/wK3ucCX\n",
       "fuBR12Mu0H+qKWLT7uiSq6T8uhEqMI8/WkzmnZTpqJD206MvoyTMi5zO60Ro4CEUcjwqr/ZKLVYK\n",
       "TlHPOy9vqn0em/zZ5XR/kJfBywkqsRYNdtBDO8voZTc2HDWKy0Vt1ld3c+mg1jdUIvGPhkZmUaDq\n",
       "J+uYvGk0dHmKkInjntG/2JDBpzFYoOuLM99YfPervomvQzW64wnshIY5f1QLO+k8tgAQGkoYQPwn\n",
       "6WtMeN89MMmVM61QCbD7gg5hd0VCblWPU73duKfXYZiO7qhaNPBsAykZSZwYkM4V7wZPVUByj7l8\n",
       "I77mAELriG0bR8UYbMV76KoMCRJNMOgn5oy7u+7Hs7nMhez+O4atQEtjXZrcuD1cGt6q4ww7GdGq\n",
       "DjWuZ74NL1PtdI+qN0kaymhGLi66ANXbWbr7MqsM7119IQdEVEPLtCO86OG9gwWleklE8ZaSIVgX\n",
       "eTHwdP3yhjFz91D+/j2C2w91KyWeKXkeJEZN8X6w7h7G8CC3jj79kzzb7Bo+/EeRbRkpqzdVPAjA\n",
       "tJldy/tZ7NeRl/T0F6t7KsGDJs0Hra1erI6lynrwB3SkfKSOwZQf6Y9zDU19j/XhMH95e2az1Hv1\n",
       "MoPl03zmofhZSKI6vvf+p//BAhSt+MzG04QmwXITBmmh9ER+XYXGj/rYVgXylC/04BPxKpekJJgZ\n",
       "P/UfAF2mi6MZYA2PcTE3HyCoRA3M8BwD5bFkz20mY4puwZm1GnLEHncwYbVRRmwYADBAE3aVbWtC\n",
       "iaXLUwyZhcEZ09zs+PwhuunFMKLtgS9umSnPZPhfCJe3i+Gu5Je6qV7ORvbk9s7xlCWAW537xsQt\n",
       "BR0eCrVPpR84AAAmICvZzQAABcdBmiFsQR/+tSqABSioMWAJiVZZsXlULYjo//0dYN32JLv35r/k\n",
       "9Mmp8T6EvQGiU6fl//KjV26RpfO0jGn15z0mhSUrwYw4v+dutf3GP4R0iIOtv1/XLILwC5/tLAMS\n",
       "4MISCiSuRqL7luqP7R1RZ+L/vslyd3usO1o3AtSppwtun6SETL9udOfGmfzqQaR7a33gkcp3zbvQ\n",
       "38F6jGMwjCFwhP9xGlTkq5xx8FOo35R/+06ymuwdvhMjugFveITrf9UIk9CBVEt+rCTf8Z+Bg1+R\n",
       "6UdVH3Fw06eOP/Sy844gGpo2G6sQJUguToy1Abo9obk+a6EluM+PXV3MEoxW727prsutbbbgm6PJ\n",
       "ZSQFeW5KfSna3/8PTG8LOiM2NZaWFAPOxGAZvxuvX0i9vVlR79+efF+amkVxiXrMYW0VDqsm8iyN\n",
       "hvssOGYHunk4YUj2fKB/+BhQCKmLdwlCVlycvkHnw5MdoxVpGAhFn+QBPCJ1gZMh5yTwHTKnQfVX\n",
       "+ghKEzWF6ZUV1+rdYAd4QssH49EMm6zX3we+uZokqIEyi6k/Mqz6JSiR4YGTMpUxRZIJpRId7mCO\n",
       "46TejSkU6SpXwtX3tyaZ1kahKky0c4vt2o9MnhSTKfxsZMRJR8v9ioyR5NjWrGQnn4fJYsMuNLA/\n",
       "XB/tEcKrZfhAnLqwDkEeNcdDOiF8Cg28L7tkhVakf1pAoQuvLNF1jtnsuqEYvmo8ZY/H6SU7XnGt\n",
       "H5lk+JY35XTOGowIdZFUhZ7iD9u3zWmKt4Ak0VZC80qQScqvE7nDIv8h8yi2LHgBSe6CBHbfD/5N\n",
       "PFO0OiG4IkEKCy+IBzwzQABqMuJt0dEJQR0Delvz5XKEI9SvmTI6/k5HnWbhhNZK7LpYAcXakB5N\n",
       "ltuPhrnWOraCOMeTGNSkJLZz7KHpkiD+MitUeN8GSkrQ6FnybFJX3JGU7x6Z8trXM1ZE/YzbU0lT\n",
       "Njxv/wvV8fRzYWIl5+vtIQap9QcTu09C+VVEXl3mdqC2vY3KIOuTQKXK0WzaS0vRD0mfxerURIzy\n",
       "+qb3G2VlQkhvtmzqoa4t3YXZk3w+d0CCqQKMu5P5Pdht5wFEtYcxaf1IvpWB4Xa9tPbFTfDJSA6Q\n",
       "APLLdGG5wfIu6jVsEmqYmVJB4O60tfINQsJWgqwg13Lhj9g/1o/n6p7qWah3F8YX0AmfKjWs3hRb\n",
       "mohteyZytiS4GkI5qbEQnGgsxazNPhmlfaasK/RnDLptRsJbH8T+Patq711mgiKmdnvyu4X/29tT\n",
       "VQaEmc9NhkJLMZ1vjp6fEsKPRxV+xePL7IOEvgqEImVxO/pbDuKR/avLcLqUcY9yuqQeMQ6aSIT2\n",
       "0VNa3ty3QsmpOeNW0uqtholEQqX/4qGc2l3EHyNqTYDuKxeT8XLyAV64Gp2uTNlEdOmB0p4zpegz\n",
       "s7fhzOghfg6Ac1JLBfaCqsuFofeoSuPlTqmyiAWGHbwlpY3dO0qGoRCiFWn1ba/0mVocbJBsDYqJ\n",
       "VlYpOmt9jKFBDxOPWBHyB+C3Lol+R5NDcKp0qfAVuudqDk1Jcg+d4KtGHxLOYfMJ6lR7in9Z+RnA\n",
       "OTMpfUh8vZCOJxLfyAtubAzzkIP3w93T3Wc0321OWZZjFXAsrgmiB79R3Hu8kE1GZ0S4kCLYjHzy\n",
       "mtqyqc9moMnFEDL8NszEks3vBUaCBUEOyzbDHjdEjY4e/ghWnmKcllDgDfGb0aOzbymShrlQPbnC\n",
       "wfgI2rg77njgNVNZjgsgNbR8DUMfA6rtaif/DPynHMFFKhPHDuKmyPjtPxQq3fn1GbLgvy/3BmoO\n",
       "vcPCsBw6UPiwBIebFbo1d6PT+5RZWY8hRnkLOjmzXQjzY07newM/OT+A+lK4/AkEPRfQ0QyMfPgS\n",
       "q/X8Hqy23PJI7M8E1dyWRUYtnGTjKuAAADoDLAAAPOTPBjQACDUn/KcHOCtjMAd26mhyZA4W7/x1\n",
       "ND/9l+m2U063i9i6FYJMWmAAAAaPQZpFPCGTKYQR//61KoAFcKc7AFh+iqaan1FdlLaGkOtWMjfL\n",
       "xP/DboLED8IwtVBEtmTrJw3va0/jxTdN1p91XOCXq5/FXyjXzlryPWpbKCpNwryhmm/2WOs82Mpq\n",
       "vHeZw07vueBN+XkVcv9DSyBPvHTqhhTfk+GFS6GrcUOON60mVuduhQlYqJYaMGNFWM/dG9sreHwc\n",
       "l5K9KXRDqoOY/lX0GRxB4B+0aWhRIpUaOsJsbYVIv4Ghucn50EQcaGJMYLHJi1VCzev4dn5ugFMp\n",
       "hNY7vhy+PWrGrBAIhW+9KcHgn35p/L2lX5RHhgwNEik92gt689OqpQc+sCbAc1CIFv7YAAaFpcdq\n",
       "C9xC1zjLHl5FHyj1iObrtYuKkter6VjRIpPi/Sdfxe4f3gNPsnANlV8pcIXhEvDeBu5C7o+fRIHW\n",
       "EDmXhin1pc/nqAsjPcZ2elTW+O98ZjWNeTzmW5onc34L4UeYs+oIdFNlEbVDdxUeiMZ8VbpakQpM\n",
       "hPpfyGNWCEbGsXkQg5yyWTfzznOBoTqeTVON8QgCGhl88YAp5U4qaSraf3KsPW4XfH9/Dvs8BG8R\n",
       "z/aTW7BjTYJq2EqQQDrVztV/UmJSuh0MOq8bGbeIW8lXFfq+z8hiYv2MTv0z1Ahesl1MGg5DgOwp\n",
       "IgHs/fK6FX78+Pe4sW02tvhPc67y2UAoEB6o5hLmrntLNjZ2taY10k9JB2Bz+v+NOygfjC5zc6mh\n",
       "1YgvNqJPSTUq5bNnm5ebe0Q/H4BAgvxXcCL52ZenKMHY8RzgsSMT2wHbUerjySvO2/ObEfik1/HK\n",
       "7VEJiueDK+wYKmKKRDN/QMH0K8rZpmoizV391Uhm3NrIDABGiW0ruEt+BWYgmDdvgo6ICol+Cb3Z\n",
       "QQmEOmONGlZPXElk6sHJA5TxQeJf6FmH9y1PK3FBiA19O0xCzdJaRiC3m7O2WZ4SBrdR0y+/rP8V\n",
       "N8BPFaGD1s4/6ra4aF6c1IXKm2ah8PwY4KMAz49+o0jHAPX7LYxj7vDY0ojPn6RaVXECEN9Ta204\n",
       "r2Zqj8+0pYuZIfa4YDBgAf45tQ15kfn9LrphiIDc1Op7oCNmlAzv77i2ddb3mB1kx2uTE4tSyLeD\n",
       "HwoSjAa4z5IgudNPwfqQFlazBP61Ks86mjaIDpfPWjWKyilvas4T1JMMOItTQyu8CaNWxarYQA0J\n",
       "1Z4v7BDi8Jdtsi4gQ5UoOciEHW03pW+SwxNt3UQwf4++s+KBj0LzjsHiQQnveolGcSwBN2pZGXIi\n",
       "ITw9kn1b477W+Utj2J8qzqIMjIlQOgKpAxFMmdXXfKDXO75BWHYb4pPH4P6LHAtmDP+hbLVYvEy9\n",
       "QOf+xXWHRYGuaxSsa0IjhXLqpYpv4nL/A59SYvNjGX0mknX0uTbGEkyJI631kT+xZWtfwOUmA99+\n",
       "ipcb1+a+5KvR2HlU5fyivKV0BhvswAME9liWwHzc3usBOj2jdK2mDCXsEsVREAHzhf4752YGUaGa\n",
       "GlrsEeu7PYe5xDR3RcobVxKH8P+6qODEJMSuIc5ujodpieUbnpsNr/5bVfFFZgl6xspjzTvttbkG\n",
       "qyVtrGzG2wl+edWe2jrlYhUDK0qBX6oKS2+g+ewUL6Tw5ygvAwlRNssQIvfS/xn+X60gjQ10VkV9\n",
       "MOzHB4fn6THDScsnjFkLKpju1FAEiiIcT6ibCF/v/empvPi0Er1iw2KAbmgS2TLsHIjzFM4RqDj2\n",
       "dReg82cvmsASlVjsH29/XwClOfOJzLp059LdJB3yHgRJTHnCbhxIyjkG+PTfjwztwpBbW3KyJo8J\n",
       "O4Bkfx2HFQd2FbYNu8i1wzjJjKkknTTk9oV+cmPc8pzs1jiwJAiBebTHJn299sDV1m3zAETEN6HX\n",
       "6jg55gbqXZIkTGGZ9hk4JGdBvB8tGnEgr8EZgSeEEaVva+gRPX4rgkV6VTTy+Kap19dXtjFNVieF\n",
       "xWzJ1xDjs++mZJbhjlelHPcdZKOMW+Gk+5HbbG7F3TCLq8ZSLCZ8sagSV/vL0K10tsilWG9oVzJD\n",
       "7HqY0Rbre7fMf/VCPBtqbe6ES0sBWnRnzy8DeZEU9BlDg4J4Etiw4mEqqiEOXnWkJHF0HmORaH+p\n",
       "JlEJsTzhC/XfdB8ZSwjJ1hU2h39UtnUrgE5bB1OicrFjwo957X4WjZ5w6TgTsUiw8AoYV8sJwhqS\n",
       "yAi1/HA1MT7OCOqmvhMwCxuRrIZmwXFQ87M+hjxsC0vJtJnGkqAn1rEwSJWT4ZUAAAHEQZ5jalPD\n",
       "vwAVNWBIy+Ks3hoA/OAAcCQ7WVe10IrG+pWuh3wSs4TGYpVaY9kjZuptevoK1iVKGSFaTmnRvoIL\n",
       "MvZzyfEt7QYHWxbNrzkJ5JAtTidcs50ZGYSa7eeCrlr8O4390Ar4/55yM91sDYlUOkzQ4Ml8lLoq\n",
       "1Li/M+9sDAtIF0xCsSpoUM/PLATjufkVH4iFF98zPaMbODtsfLsXkW6XdkIAq4VvQrgZs2jiuvcZ\n",
       "dDrxlCnGlnuI+/R+IasJhx+JeMf6i9ZDsXmVsadjzFQF8nzStDHYU3HWRdFGNAejRLzioIkBi7ZJ\n",
       "guEns3FerMyltVDQz/kw1on2Tq/Ol+BlqsrTchozVJLxXw8edwTIYeb8EfldCENvpK01ad+Qdr80\n",
       "3YGFcmsu4R1Qwa8mO2cBsE9Rv9VA/GIX3I8EViNwxz+7HKr+mXMWsLEAlRez2hlbbo/VgJlTxODh\n",
       "sQe3XbSAEkg35O3IApfJXUXRv1zF2gF5TXkLSsRKEg/SsGfUPQ5guQ6hD1zqHxa27PUopY5qX648\n",
       "tHDY2y9JF2obhzbu04+O1uCZgmGD5p3BGoIdkmMyb7Bq8TXLbnpAPImG7o4loW0AAAI9AZ6CdEN/\n",
       "AA8x72sk+gA2q5CQKvSAMOqe1tmAaXAPjRzwrJzDFgDV6cOhBVRbQK7ebXTSXlZaGWYU/7McSg3k\n",
       "tW+UCPjAxtBdaymRzllovnH9PQnkgI7B4FbveR9R07owiX2zliqJZN562HYYJ60IBuBQih28WSw0\n",
       "ufEyiiIe8T8V+9NzUrHVMfUiWv9vT0Y42j+V6FeJSNTQtbWoiOt8kwUuHYVCAJVPtCoucOAhsuOT\n",
       "qqNK7FMjbbfjanrvsoWJgyHihA6koGVtWa1Bil4NAHu+HRbdxFxiSuTxeqaSYV0MqFEh2oho7b+1\n",
       "yEkTVjQ61ZJqnO6C3pJWjn9RpzFymeAjh+Fe5/60r7Df/90V72eKQAD6X9sm5UzN3dwaqyfg6/jU\n",
       "qFTqi4A4hNPTZsx2c3rbMz/XajhEKlOvXzP6bAyLzHUl+6Ml33Z4T/wbIhZqWXDiI1MQ7xKRzkdb\n",
       "+lUugx+SVmkNPXMRvCrkBTk8apaw8PKFwNoxJ9HdzITiHTn0Tda2s8XIl4YLFKYw7U89PZYEj3Ed\n",
       "AvpNZRJR8rlFKSstTDp2F7WhgeKx2RO4N3Qc7dbk0fEBHDqXS7IKFomcfqnCtOm3xEn/fBli8h1c\n",
       "3sSXX8NkUFxa5lqZOW7ZrPyd1XICJP+OTWkfzx6koT8u8NHHoO3q34i+DDk569rAPtD0LcxZNv9+\n",
       "VoLHuxhMuViwGWtx0f2koxaid4Lb2EXJD/vvAw4cJUcG2rcQAyJd9E8Y2l4vMD2D2STAALaBAAAA\n",
       "3wGehGpDfwAdtSrIJdzFcPI3uVQAmmpqX/fd/t8Og+HkWd5TZ8WSev6r8kvWHat0dZ7TcyUvr3yx\n",
       "aqWYkeCSFFpHawV//ai4LMKOMWbXOjFUAW6j1qpNZy0nOY89r1ml/uxbDPfq63RrfRLm3bWBNeXc\n",
       "Vm0pplAiv9Bz0nnKTSKL4wlCR29YRKLem4AQz47HG+D/SAHx1RHyb4qwGmzLmwbcnUeWccHpRi37\n",
       "z1GuZwKLjNiCNMK9Hdf2B3/D3N37L7ZgF81jg4KQCqh+6D6AJY+XbQbaxQETJKBdcMAAGpEAAAKw\n",
       "QZqJSahBaJlMCCP//rUqgAVvYtEzNACvl8+7ogfP3bQXlLBlK/C9giT/fv9BU0/RB2+IYq92woPG\n",
       "mH/1h7Nz+Q8NPqWPqxNtRKoMDNzmIZ0fYrcg4FC4LGiLFcxSpGExftZToV6bN2HX/p5jb0rF4Diz\n",
       "qo8VpMbiJokjUIok2XunwdYsrr9aRcHi97RXDB/DHCWeTaBh2++S+5maovH72Izf66MSEjuNBTrY\n",
       "aXPW7/Ox61JEm10kQnIU3H0T5+wYPiMvaHLUcfCRrXjXFWPiw2uiUVUHQluYPbqd+68MWddsBG4y\n",
       "/GWpblMG0Bg3Qm8eUUuU3eZ0l6orphxKvPmEBJea1iT4jgeOvqfw/mBinrs38HAOaFnNcYcNhZSY\n",
       "aOeR2EL9swA2LELm/ceLKAewp5Lj73T8GlKgs7ZW4Bl/OH6/+cN6oO33jsAlhOfE9+a95QMTSUKQ\n",
       "yZjtSgw8s9qb01MqRqFoYOIZHESsdx3/JZl64CGE2BZGKe/vTbFG4eclnDgt6JXDv/3A3yETb0ap\n",
       "gq01eWQO7kNqit84/XPHdI4aVl9ywaszxQeSLShMnP6yjREaSRQV0nOCmNKGdi+uZbN/U84tka1T\n",
       "3eGnwlr2tNaW2zeKQCb2WBj3RWp0/ErR1DvB4MobvYJIQnuD1jnjBjimNu7Pr/jRf1sKcza+qZkM\n",
       "MShEB+wU+OAT7TbaDEWK/V47EgOlS/yJmJ4fsI5g1a1fwxOwMFb6HnFl5MNcofsirnKardCC0E4J\n",
       "6zU7x4ShoAy/yRVoIePoz1hbduMUwFSdBcJDLVkDs9TbO7qU1TyTT7mvW6eUkMyawBU/4YVloXxx\n",
       "nUdtISUFgPnuLWsNE41vovkx0gXQ8MLDSpS7OVSi9UO0vRY14/IsWUJpuFdTDFJZzRQx8aQOIp8l\n",
       "QmhgoQAAAHNBnqdFESw7/wALKY+J876R8ALUcrKEw4QsDstMTq1o/o3nID4CR4DL6oITCWykLJgr\n",
       "vTKPq2LT7rNdHoqO/t8FxbY9t9MKnS3khUBR2mWc9c5oyPOXdquGVOZT2NGJc+VNLoJCIbhFsCfV\n",
       "t0BFVlPAAAGLAAAALAGexnRDfwAdrTzGyj7rP3Vh40qfo2Jm2kmWHPCZei0YiHrnmNIsFAAAAwEL\n",
       "AAAAIwGeyGpDfwAdpJW/wLxXSdVBkhawmIqe1En4csONBtLNAAKmAAACLUGazUmoQWyZTAgj//61\n",
       "KoAFcKf2gBW/ouw8m+JwkdZBA21sT1qoEdqXOY/QEm41QfIH7v7CNt//rzodWO56GEQcrZ6Gydbm\n",
       "LFfrjzIwXKJtXOHPxlg1PEJFqmdVmYi+QND2zUHbeMd4hFgiZlr/s3pyysbevXddEBk7HPviC6n4\n",
       "wGs5Q9ahYCvdR1us0SKSaxAVip+rcFMnJqFGxMJNwM6vlhm5o/4LgBTgeBINeriNzV/eRoHvxrXN\n",
       "Mj6/6nnIx0AIs2gmWaMq1K9pSqAJa33lyd2GH9LpK6Yz9PpAKtJWTEBrAvqAuS2NCOV5FoxQ53iK\n",
       "YFJureBLoc+ZnwTABz8fNR9hxLyaUQB53EM8s8BrYMsTM4AoWyf06ge1c7/vHunTZGUhCWHiau8n\n",
       "BLSywWw0xXExUCd1dGkZ9/GUdqu4EVTUskBlQzAqakeNXGgU1WxbTILfo+g3Pnk7y3h29MieGQfu\n",
       "7dp2XlELAyeD5jeHdwYsuaGs1itgHaWH35eiBk7P+fM3ciZD3z0CF/6ekansnzzQWbAgLElqJpF0\n",
       "fYGsLEEGinc0PGcgSS1IdSnixQodQpQr+/v3xEoTSzdfTGOMc5FwXYMLRNazw/sVou7e3wl9FHpT\n",
       "nD+vzw69SzgEyy5+fOsiHFNrflHR/YL7Km98HRLyOWvikEnWQjPeAI6knuD5HeYWILllbPQ3U168\n",
       "JjYhGdJBwDEfDNJ5o3uPgxKdnzDwwV0G4paAAFBBAAAASEGe60UVLDv/AAqasLrHS4oAJyn7Llg/\n",
       "K/6qfq9dhokB7lLdWvvSP8REMLriaEGB7xJAmffTDPsp1YCSnKa53+KEJDF6AAAIeAAAAB8Bnwp0\n",
       "Q38ADzH1sfA/yFXlDx/g8Wv+bOTJIhHgAA1YAAAAHgGfDGpDfwAPMpVi620bcqAIKfzadcK+koSw\n",
       "oAAOmQAAAd9BmxFJqEFsmUwII//+tSqABXMwtnAArVrMkqiXawQv9FxZ0bfhv++7/DPYI7QUHTZy\n",
       "mzjDhAhF2RB/ugbZN7pzo91x9f+QN2J6rG2yxp/6LccLQpjKtlK6Xpp4saihe2VhwnsUSW1hiFUQ\n",
       "mAoriYT3Fon88SaIIhj94UgBKCInixk+ART0ND+e6+RmmKsSkAeCNLxdhcnOdxayRozHckaNCyxp\n",
       "fml1uIpohIiVSjogZtRTCygJOuLJKm+1cSAAUECeWyDb9p2mdZoKYlt4UInqDVUovGX8uPIEyDhG\n",
       "uG+UYizX+HljGLtUxxMv44mJuGfdU+9FKK+1cf/AAiJOGj/8ozlaneCr7XcPnNe6RUxIVabYOiZ6\n",
       "p/MxVRJGsmrNfhQqdzs3w8QBSQ0b0yb55qiQGIFnYM3tgYAnWpqATV9BUUFaxT5vuCw2lqmnKGYP\n",
       "djL130DNkZZBvw9A9t0zWaICOdAX2ymJB7M4r8XEEvcyWuwmZ9CERPi2yp0HsfueAhR8GHP9BAur\n",
       "DPXuonpLG36Tl9HHxPCia8uUVcYzLNPN8dr5DK0ES7+/4yJXc5zdPZP0vdZxpcRT91ErBJZxblws\n",
       "WVFRFpXpVyQUwixh9Z47+km1/v9ovW/8Z1A8AAAOOQAAADhBny9FFSw7/wALK4WYjoYXHojO/OkH\n",
       "s8M9Tw2/xr9K8E8AE2Vq0rjgC8zX338cDsuSNCkAAAMBRQAAAB4Bn050Q38ADy6eW2XeXfUoImzD\n",
       "uhqLOI1TDygABQQAAAAbAZ9QakN/AAfEotHfrUbruDIBPTYAsPwYAAI+AAABdkGbVUmoQWyZTAgj\n",
       "//61KoAFczCyBADjTcrZWK6xF1nK2wKi+u2iVUsy7TOmPFmRoPPymWvPAmjwsgvM3yE02E4O/g1j\n",
       "iVM31pK+hRAwSzABgo+RKPkYWAfXSrKkTGEkJMKFQEvasspyHVxD/4G4b6hwwv+Nz10UW5v6Bh1V\n",
       "uexP1ujgTf5QBhERgW/MiJ2MSmW+BFdw1wx05f3uSJHS4/CXz5ulrFkPIgvaMyOTTQmXWXVyhE56\n",
       "x/N9xRMiVvI0Jyba1POJDkAGqZ5dgoKEr5RKzlPE9q20jYo2jZP60boHKYWjsZXSCQlm3QFaxh+6\n",
       "e5+8uNmkqWQMON8cj8JoaRIQUQ16bLhbQKJaBcUHNI1aPmWa/VcUqG5Ne+nsWPLE5QRk9Z0Vkz1X\n",
       "oPs1Btwo5eMde0PiWDGeoF9EF3vk2h+YnQf9b9Y06MPADoZvrhpG2DQ79dTgLd1pEbZi5YsGOjJL\n",
       "xJyNJMKTKg81mEqxelqHM7sAAEfBAAAALEGfc0UVLDv/AAspjziXTihf+O+xh7KLe2tE3Wte9eVR\n",
       "IviiC3b8ebYAAA6YAAAAGwGfknRDfwAPMfK7tSi/WmxD0Px8dsVIUAAPSAAAAB0Bn5RqQ38ADtlE\n",
       "Y62xLnqPDQPI1ZvMHpSesQABBwAAAYtBm5lJqEFsmUwII//+tSqABXMwqA8hAiGgArVwxcWzfNEg\n",
       "oiQLlrI7iH0l+w7kuHywYpcoBUMDZw+B2nxA3xnZhbHiFmyPbtpSHqIqctnDjAVLhKw+7qoJTOsg\n",
       "sLMfZrwti68/taRCQMdubaXe6M+Tyy+aRqSWUo+BMuAIDHoYfWYPHUMEH0pb0h99VGVnBP6MHKIG\n",
       "MqYkIs4s/WszioAYMBnqI0vEAWgivWzIYMwkhavnHHTk1YaOLlrj4EZpsixTqTL3GcsZzr5k5YFg\n",
       "MXWTMf2svdA6a9kw9F6Sn/BrAol4d2ppxPc07QE16Uv2OyDs1lnEKUiEcCq6As3UsmOqsalcW0fq\n",
       "AAdWBiphX3UU2mVIHwfbL663R93JUPR/apmVxgu7OAacvGMPTlsBFtbdv0VbYRMkaAB6RgIs24um\n",
       "rePaQDx8afypt/uZ17NQ5VHC/LWMqqmr3kmr4BfHUaIB9E+yR0pPfnKQaJvr4f5HfYnVqyjZq5eV\n",
       "ZrbzfBBHFQaGstKih0T3lAACXgAAACZBn7dFFSw7/wAFlcMcAxsQboOTxQE5aa2obV7FOdE4cqHA\n",
       "AADjgQAAABwBn9Z0Q38AB8NPfTaedqi/hCnxI3cdimIYAA6ZAAAAGwGf2GpDfwAHxKJ9q6m5euEo\n",
       "lbhWTWKkKAAFtAAAASFBm91JqEFsmUwII//+tSqABXM5nzQAbpucQWTBIpeTX1P3eONZXBGlLmDv\n",
       "ytrZOBk7pA3CrHxaZqpoBL6ZUPX9w7Ws5gsSOGgfmrQUt2fVsKV9NXmDxh5zksDTvybmkoOhCqL9\n",
       "UBNR9lMRdITL+vgCDp63MYZOoAOov4Wzu0Y5wQLtFqTGW6sASJq6ebaug/ExGgxctm0Rrigys1aL\n",
       "rHcF32mPtZgG4m5TitxkOu+4+5KcJWTx0tUZX5ulMkalM7sPhNVlPOQk62gyPbfD3H8Q2fAwmiFz\n",
       "uJIphO3qLZeVpNsNglXxMvNmXUAeb7hAqLoTzkDIUuOLojyRcnklmL5mnG7Yyj6BjFc7wjBxqvGZ\n",
       "NbmoqQNKgWyrT2wH1GAAAFtBAAAAKEGf+0UVLDv/AArirzHCubCDPMd7hEA38w2TTxj9gMjAOTn4\n",
       "TIAAAqoAAAAdAZ4adEN/AAfDT302nnaomfUjao73GXZJvQAAyoEAAAAfAZ4cakN/AA8xRFuttG56\n",
       "jw0DzGqdR5PXVA/lMAAz4QAAAMNBmgFJqEFsmUwIIf/+qlUACuHlMw7ChAAlLK8l2l7tFei/6Nss\n",
       "ZbGr4V1fTsn+jrOv6yj9tweAPymvbSxZVbsY/Yc11szpfU4XGHyzeXcTixGlg2RBWxl4aw+WqYMt\n",
       "P0mBz9FGvaqOKPiOMCXXnQJZC7F4Uz92j4txTZxgWbN0PNFp8KVhgh3j8/++xC9Zm2O40xKjWDKp\n",
       "9WDW0gZ6mG25Ktc7iu0CbMQelGs82w5f7m2s8U4SZcceO4aq8gpAEwgAB1QAAAAnQZ4/RRUsO/8A\n",
       "CuOGEYwv9Abu8ZwBX47dM2881nGpM8CsINAAAAXkAAAAHAGeXnRDfwAPLp5bZeXggHaIneSX1j5F\n",
       "HwwABs0AAAAbAZ5AakN/AA8xRFuttG56jw0egR75NSQ4AAOOAAAAbEGaRUmoQWyZTAh///6plgAq\n",
       "awnuNr1bACaejRuWwAc6/WfKQKr1cUH1VvUVlz4g5eXPIk7XhOh+AGjI7kPXm8yD89fPxjw89yh+\n",
       "wlVwIz2YiHniI9bgrethFeKpIEId6z7zLwDSHX2D0AAoIQAAACZBnmNFFSw7/wAK44YRjC/0Bu7x\n",
       "nAFfjtw58gpCB8v3YaREAAAg4AAAAB8BnoJ0Q38ADy6eW2Xq/FxyLhWaB/3eht2qXiuAAAeFAAAA\n",
       "HQGehGpDfwAPMURbrbRueo8NHPBQU43i9QEAAPaBAAAAF0Gah0moQWyZTBRMN//+p4QAAAMAACbh\n",
       "AAAAJAGepmpDfwAPMpVi9Tc7eN6mMgewRP7QzaXJIFOjABKgAACDgQAABQdtb292AAAAbG12aGQA\n",
       "AAAAAAAAAAAAAAAAAAPoAAAPoAABAAABAAAAAAAAAAAAAAAAAQAAAAAAAAAAAAAAAAAAAAEAAAAA\n",
       "AAAAAAAAAAAAAEAAAAAAAAAAAAAAAAAAAAAAAAAAAAAAAAAAAAAAAAACAAAEMXRyYWsAAABcdGto\n",
       "ZAAAAAMAAAAAAAAAAAAAAAEAAAAAAAAPoAAAAAAAAAAAAAAAAAAAAAAAAQAAAAAAAAAAAAAAAAAA\n",
       "AAEAAAAAAAAAAAAAAAAAAEAAAAAB9AAAAZAAAAAAACRlZHRzAAAAHGVsc3QAAAAAAAAAAQAAD6AA\n",
       "AAgAAAEAAAAAA6ltZGlhAAAAIG1kaGQAAAAAAAAAAAAAAAAAACgAAACgAFXEAAAAAAAtaGRscgAA\n",
       "AAAAAAAAdmlkZQAAAAAAAAAAAAAAAFZpZGVvSGFuZGxlcgAAAANUbWluZgAAABR2bWhkAAAAAQAA\n",
       "AAAAAAAAAAAAJGRpbmYAAAAcZHJlZgAAAAAAAAABAAAADHVybCAAAAABAAADFHN0YmwAAAC0c3Rz\n",
       "ZAAAAAAAAAABAAAApGF2YzEAAAAAAAAAAQAAAAAAAAAAAAAAAAAAAAAB9AGQAEgAAABIAAAAAAAA\n",
       "AAEAAAAAAAAAAAAAAAAAAAAAAAAAAAAAAAAAAAAAAAAAAAAY//8AAAAyYXZjQwFkABb/4QAZZ2QA\n",
       "FqzZQIAz5+EAAAMAAQAAAwAUDxYtlgEABmjr48siwAAAABx1dWlka2hA8l8kT8W6OaUbzwMj8wAA\n",
       "AAAAAAAYc3R0cwAAAAAAAAABAAAAKAAABAAAAAAUc3RzcwAAAAAAAAABAAAAAQAAAUhjdHRzAAAA\n",
       "AAAAACcAAAACAAAIAAAAAAEAABQAAAAAAQAACAAAAAABAAAAAAAAAAEAAAQAAAAAAQAAFAAAAAAB\n",
       "AAAIAAAAAAEAAAAAAAAAAQAABAAAAAABAAAUAAAAAAEAAAgAAAAAAQAAAAAAAAABAAAEAAAAAAEA\n",
       "ABQAAAAAAQAACAAAAAABAAAAAAAAAAEAAAQAAAAAAQAAFAAAAAABAAAIAAAAAAEAAAAAAAAAAQAA\n",
       "BAAAAAABAAAUAAAAAAEAAAgAAAAAAQAAAAAAAAABAAAEAAAAAAEAABQAAAAAAQAACAAAAAABAAAA\n",
       "AAAAAAEAAAQAAAAAAQAAFAAAAAABAAAIAAAAAAEAAAAAAAAAAQAABAAAAAABAAAUAAAAAAEAAAgA\n",
       "AAAAAQAAAAAAAAABAAAEAAAAAAEAAAwAAAAAAQAABAAAAAAcc3RzYwAAAAAAAAABAAAAAQAAACgA\n",
       "AAABAAAAtHN0c3oAAAAAAAAAAAAAACgAABbTAAAFywAABpMAAAHIAAACQQAAAOMAAAK0AAAAdwAA\n",
       "ADAAAAAnAAACMQAAAEwAAAAjAAAAIgAAAeMAAAA8AAAAIgAAAB8AAAF6AAAAMAAAAB8AAAAhAAAB\n",
       "jwAAACoAAAAgAAAAHwAAASUAAAAsAAAAIQAAACMAAADHAAAAKwAAACAAAAAfAAAAcAAAACoAAAAj\n",
       "AAAAIQAAABsAAAAoAAAAFHN0Y28AAAAAAAAAAQAAACwAAABidWR0YQAAAFptZXRhAAAAAAAAACFo\n",
       "ZGxyAAAAAAAAAABtZGlyYXBwbAAAAAAAAAAAAAAAAC1pbHN0AAAAJal0b28AAAAdZGF0YQAAAAEA\n",
       "AAAATGF2ZjU3LjgzLjEwMA==\n",
       "\">\n",
       "  Your browser does not support the video tag.\n",
       "</video>"
      ],
      "text/plain": [
       "<matplotlib.animation.FuncAnimation at 0x11c6946a0>"
      ]
     },
     "execution_count": 71,
     "metadata": {},
     "output_type": "execute_result"
    }
   ],
   "source": [
    "fig = plt.figure(dpi=100, figsize=(5,4))\n",
    "plt.scatter(x,y)\n",
    "line, = plt.plot(x, lin(a_guess, b_guess, x))\n",
    "plt.close()\n",
    "def animate(i):\n",
    "    line.set_ydata(lin(a_guess, b_guess, x))\n",
    "    for i in range(10): upd()\n",
    "    return line\n",
    "ani = animation.FuncAnimation(fig, animate, np.arange(0,40), interval=100)\n",
    "ani"
   ]
  },
  {
   "cell_type": "markdown",
   "metadata": {
    "collapsed": true
   },
   "source": [
    "#### SGD"
   ]
  },
  {
   "cell_type": "code",
   "execution_count": 102,
   "metadata": {
    "collapsed": true
   },
   "outputs": [],
   "source": [
    "# Take loss on minibatch of data rather than all data\n",
    "# Minimize frobenius norm of V - WH for NMF\n",
    "lam = 1e3\n",
    "lr = 1e-2\n",
    "m,n = vectors_tfidf.shape"
   ]
  },
  {
   "cell_type": "code",
   "execution_count": 103,
   "metadata": {
    "collapsed": true
   },
   "outputs": [],
   "source": [
    "W1 = clf.fit_transform(vectors)\n",
    "H1 = clf.components_"
   ]
  },
  {
   "cell_type": "code",
   "execution_count": 104,
   "metadata": {},
   "outputs": [
    {
     "data": {
      "text/plain": [
       "['jpeg image gif file color images format quality',\n",
       " 'edu graphics pub mail 128 ray ftp send',\n",
       " 'space launch satellite nasa commercial satellites year market',\n",
       " 'jesus god people matthew atheists does atheism said',\n",
       " 'image data available software processing ftp edu analysis']"
      ]
     },
     "execution_count": 104,
     "metadata": {},
     "output_type": "execute_result"
    }
   ],
   "source": [
    "show_topics(H1)"
   ]
  },
  {
   "cell_type": "code",
   "execution_count": 106,
   "metadata": {},
   "outputs": [],
   "source": [
    "mu = 1e-6\n",
    "def grads(M,W,H):\n",
    "    R = W @ H-M\n",
    "    return R @ H.T + penalty(W, mu)*lam, W.T @ R + penalty(H, mu)*lam"
   ]
  },
  {
   "cell_type": "code",
   "execution_count": 107,
   "metadata": {
    "collapsed": true
   },
   "outputs": [],
   "source": [
    "# Want non-negative numbers so penalize if number less than or close to 0\n",
    "def penalty(M, mu):\n",
    "    return np.where(M>=mu,0,np.min(M-mu,0))"
   ]
  },
  {
   "cell_type": "code",
   "execution_count": 108,
   "metadata": {
    "collapsed": true
   },
   "outputs": [],
   "source": [
    "# SGD update\n",
    "def upd(M,W,H,lr):\n",
    "    dW,dH = grads(M,W,H)\n",
    "    W -= lr*dW; H -= lr*dH"
   ]
  },
  {
   "cell_type": "code",
   "execution_count": 109,
   "metadata": {
    "collapsed": true
   },
   "outputs": [],
   "source": [
    "# Print out norm, min, and count of negative numbers in W and H\n",
    "def report(M,W,H):\n",
    "    print(np.linalg.norm(M-W @ H), W.min(), H.min(), (W<0).sum(), (H<0).sum())"
   ]
  },
  {
   "cell_type": "code",
   "execution_count": 110,
   "metadata": {
    "collapsed": true
   },
   "outputs": [],
   "source": [
    "# Initialize W and H to random normal\n",
    "W = np.abs(np.random.normal(scale=0.01, size=(m,d)))\n",
    "H = np.abs(np.random.normal(scale=0.01, size=(d,n)))"
   ]
  },
  {
   "cell_type": "code",
   "execution_count": 111,
   "metadata": {},
   "outputs": [
    {
     "name": "stdout",
     "output_type": "stream",
     "text": [
      "44.4271849282 6.02597823822e-06 6.45082303688e-08 0 0\n"
     ]
    }
   ],
   "source": [
    "report(vectors_tfidf, W, H)"
   ]
  },
  {
   "cell_type": "code",
   "execution_count": 112,
   "metadata": {
    "collapsed": true
   },
   "outputs": [],
   "source": [
    "upd(vectors_tfidf, W, H, lr)"
   ]
  },
  {
   "cell_type": "code",
   "execution_count": 113,
   "metadata": {},
   "outputs": [
    {
     "name": "stdout",
     "output_type": "stream",
     "text": [
      "44.4191288299 -0.000705635056544 -8.27892814415e-05 135 309\n"
     ]
    }
   ],
   "source": [
    "report(vectors_tfidf, W, H)"
   ]
  },
  {
   "cell_type": "code",
   "execution_count": 114,
   "metadata": {},
   "outputs": [
    {
     "name": "stdout",
     "output_type": "stream",
     "text": [
      "44.4130041211 -0.000605199298328 -6.48539163914e-05 144 262\n",
      "44.3744632054 -0.000347894209353 -5.97779319313e-05 57 491\n",
      "44.3455532256 -0.000275118231146 -6.17314257414e-05 38 892\n",
      "44.3134511162 -0.000148757236444 -9.15794010427e-05 26 1546\n",
      "44.2782786586 -9.73723279073e-05 -0.000125434376513 31 2221\n"
     ]
    }
   ],
   "source": [
    "for i in range(50):\n",
    "    upd(vectors_tfidf, W, H, lr)\n",
    "    if i % 10 == 0: report(vectors_tfidf, W, H)"
   ]
  },
  {
   "cell_type": "code",
   "execution_count": 115,
   "metadata": {},
   "outputs": [
    {
     "data": {
      "text/plain": [
       "['space god don people does just know think',\n",
       " 'space god just people don think like does',\n",
       " 'god space just don think like people know',\n",
       " 'just don think god know people space like',\n",
       " 'people space don god know think does like']"
      ]
     },
     "execution_count": 115,
     "metadata": {},
     "output_type": "execute_result"
    }
   ],
   "source": [
    "show_topics(H)"
   ]
  },
  {
   "cell_type": "markdown",
   "metadata": {},
   "source": [
    "#### PyTorch"
   ]
  },
  {
   "cell_type": "code",
   "execution_count": 118,
   "metadata": {},
   "outputs": [],
   "source": [
    "# Tensor and Neural Network framework with GPU acceleration\n",
    "import torch\n",
    "import torch.cuda as tc\n",
    "from torch.autograd import Variable"
   ]
  },
  {
   "cell_type": "code",
   "execution_count": 119,
   "metadata": {
    "collapsed": true
   },
   "outputs": [],
   "source": [
    "def V(M): return Variable(M, requires_grad=True)"
   ]
  },
  {
   "cell_type": "code",
   "execution_count": 120,
   "metadata": {
    "collapsed": true
   },
   "outputs": [],
   "source": [
    "v = vectors_tfidf.todense()"
   ]
  },
  {
   "cell_type": "code",
   "execution_count": 122,
   "metadata": {},
   "outputs": [],
   "source": [
    "t_vectors = torch.Tensor(v.astype(np.float32))  #.cuda()"
   ]
  },
  {
   "cell_type": "code",
   "execution_count": 123,
   "metadata": {
    "collapsed": true
   },
   "outputs": [],
   "source": [
    "mu = 1e-5"
   ]
  },
  {
   "cell_type": "code",
   "execution_count": 124,
   "metadata": {
    "collapsed": true
   },
   "outputs": [],
   "source": [
    "def grads_t(M,W,H):\n",
    "    R = W.mm(H)-M\n",
    "    return (R.mm(H.t()) + penalty_t(W,mu)*lam,\n",
    "            W.t().mm(R) + penalty_t(H,mu)*lam)\n",
    "\n",
    "def penalty_t(M,mu):\n",
    "    return (M<mu).type(tc.FloatTensor)*torch.clamp(M-mu, max=0)\n",
    "\n",
    "def upd_t(M,W,H,lr):\n",
    "    dW,dH = grads_t(M,W,H)\n",
    "    W.sub_(lr*dW); H.sub_(lr*dH)\n",
    "\n",
    "def report_t(M,W,H):\n",
    "    print((M-W.mm(H)).norm(2), W.min(), H.min(), (W<0).sum(), (H<0).sum())"
   ]
  },
  {
   "cell_type": "code",
   "execution_count": 125,
   "metadata": {},
   "outputs": [
    {
     "ename": "AssertionError",
     "evalue": "Torch not compiled with CUDA enabled",
     "output_type": "error",
     "traceback": [
      "\u001b[0;31m---------------------------------------------------------------------------\u001b[0m",
      "\u001b[0;31mAssertionError\u001b[0m                            Traceback (most recent call last)",
      "\u001b[0;32m<ipython-input-125-9a23007ce91f>\u001b[0m in \u001b[0;36m<module>\u001b[0;34m()\u001b[0m\n\u001b[0;32m----> 1\u001b[0;31m \u001b[0mt_W\u001b[0m \u001b[0;34m=\u001b[0m \u001b[0mtc\u001b[0m\u001b[0;34m.\u001b[0m\u001b[0mFloatTensor\u001b[0m\u001b[0;34m(\u001b[0m\u001b[0mm\u001b[0m\u001b[0;34m,\u001b[0m\u001b[0md\u001b[0m\u001b[0;34m)\u001b[0m\u001b[0;34m\u001b[0m\u001b[0m\n\u001b[0m\u001b[1;32m      2\u001b[0m \u001b[0mt_H\u001b[0m \u001b[0;34m=\u001b[0m \u001b[0mtc\u001b[0m\u001b[0;34m.\u001b[0m\u001b[0mFloatTensor\u001b[0m\u001b[0;34m(\u001b[0m\u001b[0md\u001b[0m\u001b[0;34m,\u001b[0m\u001b[0mn\u001b[0m\u001b[0;34m)\u001b[0m\u001b[0;34m\u001b[0m\u001b[0m\n\u001b[1;32m      3\u001b[0m \u001b[0mt_W\u001b[0m\u001b[0;34m.\u001b[0m\u001b[0mnormal_\u001b[0m\u001b[0;34m(\u001b[0m\u001b[0mstd\u001b[0m\u001b[0;34m=\u001b[0m\u001b[0;36m0.01\u001b[0m\u001b[0;34m)\u001b[0m\u001b[0;34m.\u001b[0m\u001b[0mabs_\u001b[0m\u001b[0;34m(\u001b[0m\u001b[0;34m)\u001b[0m\u001b[0;34m\u001b[0m\u001b[0m\n\u001b[1;32m      4\u001b[0m \u001b[0mt_H\u001b[0m\u001b[0;34m.\u001b[0m\u001b[0mnormal_\u001b[0m\u001b[0;34m(\u001b[0m\u001b[0mstd\u001b[0m\u001b[0;34m=\u001b[0m\u001b[0;36m0.01\u001b[0m\u001b[0;34m)\u001b[0m\u001b[0;34m.\u001b[0m\u001b[0mabs_\u001b[0m\u001b[0;34m(\u001b[0m\u001b[0;34m)\u001b[0m\u001b[0;34m\u001b[0m\u001b[0m\n",
      "\u001b[0;32m~/anaconda3/lib/python3.6/site-packages/torch/cuda/__init__.py\u001b[0m in \u001b[0;36m_lazy_new\u001b[0;34m(cls, *args, **kwargs)\u001b[0m\n\u001b[1;32m    356\u001b[0m \u001b[0;34m@\u001b[0m\u001b[0mstaticmethod\u001b[0m\u001b[0;34m\u001b[0m\u001b[0m\n\u001b[1;32m    357\u001b[0m \u001b[0;32mdef\u001b[0m \u001b[0m_lazy_new\u001b[0m\u001b[0;34m(\u001b[0m\u001b[0mcls\u001b[0m\u001b[0;34m,\u001b[0m \u001b[0;34m*\u001b[0m\u001b[0margs\u001b[0m\u001b[0;34m,\u001b[0m \u001b[0;34m**\u001b[0m\u001b[0mkwargs\u001b[0m\u001b[0;34m)\u001b[0m\u001b[0;34m:\u001b[0m\u001b[0;34m\u001b[0m\u001b[0m\n\u001b[0;32m--> 358\u001b[0;31m     \u001b[0m_lazy_init\u001b[0m\u001b[0;34m(\u001b[0m\u001b[0;34m)\u001b[0m\u001b[0;34m\u001b[0m\u001b[0m\n\u001b[0m\u001b[1;32m    359\u001b[0m     \u001b[0;31m# We need this method only for lazy init, so we can remove it\u001b[0m\u001b[0;34m\u001b[0m\u001b[0;34m\u001b[0m\u001b[0m\n\u001b[1;32m    360\u001b[0m     \u001b[0;32mdel\u001b[0m \u001b[0m_CudaBase\u001b[0m\u001b[0;34m.\u001b[0m\u001b[0m__new__\u001b[0m\u001b[0;34m\u001b[0m\u001b[0m\n",
      "\u001b[0;32m~/anaconda3/lib/python3.6/site-packages/torch/cuda/__init__.py\u001b[0m in \u001b[0;36m_lazy_init\u001b[0;34m()\u001b[0m\n\u001b[1;32m    118\u001b[0m         raise RuntimeError(\n\u001b[1;32m    119\u001b[0m             \"Cannot re-initialize CUDA in forked subprocess. \" + msg)\n\u001b[0;32m--> 120\u001b[0;31m     \u001b[0m_check_driver\u001b[0m\u001b[0;34m(\u001b[0m\u001b[0;34m)\u001b[0m\u001b[0;34m\u001b[0m\u001b[0m\n\u001b[0m\u001b[1;32m    121\u001b[0m     \u001b[0mtorch\u001b[0m\u001b[0;34m.\u001b[0m\u001b[0m_C\u001b[0m\u001b[0;34m.\u001b[0m\u001b[0m_cuda_init\u001b[0m\u001b[0;34m(\u001b[0m\u001b[0;34m)\u001b[0m\u001b[0;34m\u001b[0m\u001b[0m\n\u001b[1;32m    122\u001b[0m     \u001b[0mtorch\u001b[0m\u001b[0;34m.\u001b[0m\u001b[0m_C\u001b[0m\u001b[0;34m.\u001b[0m\u001b[0m_cuda_sparse_init\u001b[0m\u001b[0;34m(\u001b[0m\u001b[0;34m)\u001b[0m\u001b[0;34m\u001b[0m\u001b[0m\n",
      "\u001b[0;32m~/anaconda3/lib/python3.6/site-packages/torch/cuda/__init__.py\u001b[0m in \u001b[0;36m_check_driver\u001b[0;34m()\u001b[0m\n\u001b[1;32m     53\u001b[0m \u001b[0;32mdef\u001b[0m \u001b[0m_check_driver\u001b[0m\u001b[0;34m(\u001b[0m\u001b[0;34m)\u001b[0m\u001b[0;34m:\u001b[0m\u001b[0;34m\u001b[0m\u001b[0m\n\u001b[1;32m     54\u001b[0m     \u001b[0;32mif\u001b[0m \u001b[0;32mnot\u001b[0m \u001b[0mhasattr\u001b[0m\u001b[0;34m(\u001b[0m\u001b[0mtorch\u001b[0m\u001b[0;34m.\u001b[0m\u001b[0m_C\u001b[0m\u001b[0;34m,\u001b[0m \u001b[0;34m'_cuda_isDriverSufficient'\u001b[0m\u001b[0;34m)\u001b[0m\u001b[0;34m:\u001b[0m\u001b[0;34m\u001b[0m\u001b[0m\n\u001b[0;32m---> 55\u001b[0;31m         \u001b[0;32mraise\u001b[0m \u001b[0mAssertionError\u001b[0m\u001b[0;34m(\u001b[0m\u001b[0;34m\"Torch not compiled with CUDA enabled\"\u001b[0m\u001b[0;34m)\u001b[0m\u001b[0;34m\u001b[0m\u001b[0m\n\u001b[0m\u001b[1;32m     56\u001b[0m     \u001b[0;32mif\u001b[0m \u001b[0;32mnot\u001b[0m \u001b[0mtorch\u001b[0m\u001b[0;34m.\u001b[0m\u001b[0m_C\u001b[0m\u001b[0;34m.\u001b[0m\u001b[0m_cuda_isDriverSufficient\u001b[0m\u001b[0;34m(\u001b[0m\u001b[0;34m)\u001b[0m\u001b[0;34m:\u001b[0m\u001b[0;34m\u001b[0m\u001b[0m\n\u001b[1;32m     57\u001b[0m         \u001b[0;32mif\u001b[0m \u001b[0mtorch\u001b[0m\u001b[0;34m.\u001b[0m\u001b[0m_C\u001b[0m\u001b[0;34m.\u001b[0m\u001b[0m_cuda_getDriverVersion\u001b[0m\u001b[0;34m(\u001b[0m\u001b[0;34m)\u001b[0m \u001b[0;34m==\u001b[0m \u001b[0;36m0\u001b[0m\u001b[0;34m:\u001b[0m\u001b[0;34m\u001b[0m\u001b[0m\n",
      "\u001b[0;31mAssertionError\u001b[0m: Torch not compiled with CUDA enabled"
     ]
    }
   ],
   "source": [
    "t_W = tc.FloatTensor(m,d)\n",
    "t_H = tc.FloatTensor(d,n)\n",
    "t_W.normal_(std=0.01).abs_()\n",
    "t_H.normal_(std=0.01).abs_()"
   ]
  },
  {
   "cell_type": "code",
   "execution_count": null,
   "metadata": {
    "collapsed": true
   },
   "outputs": [],
   "source": []
  }
 ],
 "metadata": {
  "kernelspec": {
   "display_name": "Python 3",
   "language": "python",
   "name": "python3"
  },
  "language_info": {
   "codemirror_mode": {
    "name": "ipython",
    "version": 3
   },
   "file_extension": ".py",
   "mimetype": "text/x-python",
   "name": "python",
   "nbconvert_exporter": "python",
   "pygments_lexer": "ipython3",
   "version": "3.6.2"
  }
 },
 "nbformat": 4,
 "nbformat_minor": 2
}
