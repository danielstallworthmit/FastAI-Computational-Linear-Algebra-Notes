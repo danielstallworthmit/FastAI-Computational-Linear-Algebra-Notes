{
 "cells": [
  {
   "cell_type": "markdown",
   "metadata": {},
   "source": [
    "# Fast.AI Computational Linear Algebra"
   ]
  },
  {
   "cell_type": "code",
   "execution_count": 16,
   "metadata": {
    "collapsed": true
   },
   "outputs": [],
   "source": [
    "# Imports\n",
    "import numpy as np\n",
    "from sklearn.datasets import fetch_20newsgroups\n",
    "from sklearn import decomposition\n",
    "from scipy import linalg\n",
    "import matplotlib.pyplot as plt"
   ]
  },
  {
   "cell_type": "code",
   "execution_count": 17,
   "metadata": {
    "collapsed": true
   },
   "outputs": [],
   "source": [
    "%matplotlib inline\n",
    "np.set_printoptions(suppress=True)"
   ]
  },
  {
   "cell_type": "markdown",
   "metadata": {},
   "source": [
    "## Topic Modeling with NMF and SVD    "
   ]
  },
  {
   "cell_type": "markdown",
   "metadata": {},
   "source": [
    "## Lesson 2"
   ]
  },
  {
   "cell_type": "code",
   "execution_count": 18,
   "metadata": {
    "collapsed": true
   },
   "outputs": [],
   "source": [
    "# Get Newsgroups data from sklearn\n",
    "categories = ['alt.atheism', 'talk.religion.misc', 'comp.graphics','sci.space']\n",
    "remove = ['headers','footers','quotes']\n",
    "newsgroups_train = fetch_20newsgroups(subset='train', \n",
    "                                     categories=categories,\n",
    "                                     remove=remove)\n",
    "newsgroups_test = fetch_20newsgroups(subset='test', \n",
    "                                     categories=categories,\n",
    "                                     remove=remove)"
   ]
  },
  {
   "cell_type": "code",
   "execution_count": 19,
   "metadata": {},
   "outputs": [
    {
     "data": {
      "text/plain": [
       "((2034,), (2034,))"
      ]
     },
     "execution_count": 19,
     "metadata": {},
     "output_type": "execute_result"
    }
   ],
   "source": [
    "newsgroups_train.filenames.shape, newsgroups_train.target.shape"
   ]
  },
  {
   "cell_type": "code",
   "execution_count": 20,
   "metadata": {},
   "outputs": [
    {
     "data": {
      "text/plain": [
       "dict_keys(['filenames', 'data', 'target_names', 'target', 'DESCR', 'description'])"
      ]
     },
     "execution_count": 20,
     "metadata": {},
     "output_type": "execute_result"
    }
   ],
   "source": [
    "newsgroups_train.keys()"
   ]
  },
  {
   "cell_type": "code",
   "execution_count": 21,
   "metadata": {},
   "outputs": [
    {
     "name": "stdout",
     "output_type": "stream",
     "text": [
      "Hi,\n",
      "\n",
      "I've noticed that if you only save a model (with all your mapping planes\n",
      "positioned carefully) to a .3DS file that when you reload it after restarting\n",
      "3DS, they are given a default position and orientation.  But if you save\n",
      "to a .PRJ file their positions/orientation are preserved.  Does anyone\n",
      "know why this information is not stored in the .3DS file?  Nothing is\n",
      "explicitly said in the manual about saving texture rules in the .PRJ file. \n",
      "I'd like to be able to read the texture rule information, does anyone have \n",
      "the format for the .PRJ file?\n",
      "\n",
      "Is the .CEL file format available from somewhere?\n",
      "\n",
      "Rych\n",
      "\n",
      "\n",
      "Seems to be, barring evidence to the contrary, that Koresh was simply\n",
      "another deranged fanatic who thought it neccessary to take a whole bunch of\n",
      "folks with him, children and all, to satisfy his delusional mania. Jim\n",
      "Jones, circa 1993.\n",
      "\n",
      "\n",
      "Nope - fruitcakes like Koresh have been demonstrating such evil corruption\n",
      "for centuries.\n",
      "\n",
      " >In article <1993Apr19.020359.26996@sq.sq.com>, msb@sq.sq.com (Mark Brader) \n",
      "\n",
      "MB>                                                             So the\n",
      "MB> 1970 figure seems unlikely to actually be anything but a perijove.\n",
      "\n",
      "JG>Sorry, _perijoves_...I'm not used to talking this language.\n",
      "\n",
      "Couldn't we just say periapsis or apoapsis?\n",
      "\n",
      " \n"
     ]
    }
   ],
   "source": [
    "# First 3 items in data\n",
    "print('\\n'.join(newsgroups_train.data[:3]))"
   ]
  },
  {
   "cell_type": "code",
   "execution_count": 22,
   "metadata": {},
   "outputs": [
    {
     "data": {
      "text/plain": [
       "array(['comp.graphics', 'talk.religion.misc', 'sci.space'],\n",
       "      dtype='<U18')"
      ]
     },
     "execution_count": 22,
     "metadata": {},
     "output_type": "execute_result"
    }
   ],
   "source": [
    "np.array(newsgroups_train.target_names)[newsgroups_train.target[:3]]"
   ]
  },
  {
   "cell_type": "code",
   "execution_count": 23,
   "metadata": {},
   "outputs": [
    {
     "data": {
      "text/plain": [
       "array([1, 3, 2, 0, 2, 0, 2, 1, 2, 1], dtype=int64)"
      ]
     },
     "execution_count": 23,
     "metadata": {},
     "output_type": "execute_result"
    }
   ],
   "source": [
    "newsgroups_train.target[:10]"
   ]
  },
  {
   "cell_type": "code",
   "execution_count": 24,
   "metadata": {
    "collapsed": true
   },
   "outputs": [],
   "source": [
    "num_topics, num_top_words = 6,8"
   ]
  },
  {
   "cell_type": "code",
   "execution_count": 25,
   "metadata": {
    "collapsed": true
   },
   "outputs": [],
   "source": [
    "from sklearn.feature_extraction.text import CountVectorizer, TfidfVectorizer"
   ]
  },
  {
   "cell_type": "code",
   "execution_count": 26,
   "metadata": {},
   "outputs": [
    {
     "data": {
      "text/plain": [
       "(2034, 26576)"
      ]
     },
     "execution_count": 26,
     "metadata": {},
     "output_type": "execute_result"
    }
   ],
   "source": [
    "# Count non-stop words using a dense matrix (to make it easier for this exercise)\n",
    "vectorizer = CountVectorizer(stop_words='english')\n",
    "vectors = vectorizer.fit_transform(newsgroups_train.data).todense()\n",
    "vectors.shape"
   ]
  },
  {
   "cell_type": "code",
   "execution_count": 27,
   "metadata": {},
   "outputs": [
    {
     "name": "stdout",
     "output_type": "stream",
     "text": [
      "2034 (2034, 26576)\n"
     ]
    }
   ],
   "source": [
    "print(len(newsgroups_train.data), vectors.shape)"
   ]
  },
  {
   "cell_type": "code",
   "execution_count": 28,
   "metadata": {
    "collapsed": true
   },
   "outputs": [],
   "source": [
    "vocab = np.array(vectorizer.get_feature_names())"
   ]
  },
  {
   "cell_type": "code",
   "execution_count": 29,
   "metadata": {},
   "outputs": [
    {
     "data": {
      "text/plain": [
       "(26576,)"
      ]
     },
     "execution_count": 29,
     "metadata": {},
     "output_type": "execute_result"
    }
   ],
   "source": [
    "vocab.shape"
   ]
  },
  {
   "cell_type": "code",
   "execution_count": 30,
   "metadata": {},
   "outputs": [
    {
     "data": {
      "text/plain": [
       "array(['cosmonauts', 'cosmos', 'cosponsored', 'cost', 'costa', 'costar', 'costing', 'costly',\n",
       "       'costruction', 'costs', 'cosy', 'cote', 'couched', 'couldn', 'council', 'councils',\n",
       "       'counsel', 'counselees', 'counselor', 'count'],\n",
       "      dtype='<U80')"
      ]
     },
     "execution_count": 30,
     "metadata": {},
     "output_type": "execute_result"
    }
   ],
   "source": [
    "vocab[7000:7020]"
   ]
  },
  {
   "cell_type": "markdown",
   "metadata": {},
   "source": [
    "### Singular Value Decomposition (SVD)"
   ]
  },
  {
   "cell_type": "code",
   "execution_count": 121,
   "metadata": {},
   "outputs": [
    {
     "name": "stdout",
     "output_type": "stream",
     "text": [
      "Wall time: 13.8 s\n"
     ]
    }
   ],
   "source": [
    "# Orthomormal -> Dot product with itself is 1, dot product with other vectors is 0\n",
    "# Orthogonal matrix -> Columns and rows are orthonormal\n",
    "# A = U∑V^T -> U orthogonal, ∑ relative importance (singular values), V^T rows are orthonormal\n",
    "# Want to capture very different features\n",
    "# Exact decomposition of original matrix\n",
    "%time U, s, Vh = linalg.svd(vectors, full_matrices=False)"
   ]
  },
  {
   "cell_type": "code",
   "execution_count": 32,
   "metadata": {},
   "outputs": [
    {
     "name": "stdout",
     "output_type": "stream",
     "text": [
      "(2034, 2034) (2034,) (2034, 26576)\n"
     ]
    }
   ],
   "source": [
    "print(U.shape, s.shape, Vh.shape)"
   ]
  },
  {
   "cell_type": "markdown",
   "metadata": {},
   "source": [
    "#### Check if U,s,Vh is SVD of vectors"
   ]
  },
  {
   "cell_type": "code",
   "execution_count": 33,
   "metadata": {},
   "outputs": [
    {
     "data": {
      "text/plain": [
       "True"
      ]
     },
     "execution_count": 33,
     "metadata": {},
     "output_type": "execute_result"
    }
   ],
   "source": [
    "# Take a vector and make square matrix using diag\n",
    "# Norm to get to one number\n",
    "reconstructed_vectors = U @ np.diag(s) @ Vh\n",
    "# np.linalg.norm(reconstructed_vectors - vectors)\n",
    "np.allclose(reconstructed_vectors, vectors)"
   ]
  },
  {
   "cell_type": "markdown",
   "metadata": {},
   "source": [
    "#### Confirm U and Vh are orthonormal"
   ]
  },
  {
   "cell_type": "code",
   "execution_count": 34,
   "metadata": {},
   "outputs": [
    {
     "data": {
      "text/plain": [
       "True"
      ]
     },
     "execution_count": 34,
     "metadata": {},
     "output_type": "execute_result"
    }
   ],
   "source": [
    "# Multiply by the transpose and compare to identity\n",
    "np.allclose(U.T @ U, np.eye(U.shape[0]))\n",
    "np.allclose(Vh @ Vh.T, np.eye(Vh.shape[0]))"
   ]
  },
  {
   "cell_type": "markdown",
   "metadata": {},
   "source": [
    "#### Singular values (importance)"
   ]
  },
  {
   "cell_type": "code",
   "execution_count": 35,
   "metadata": {},
   "outputs": [
    {
     "data": {
      "image/png": "[encoded data removed]",
      "text/plain": [
       "<matplotlib.figure.Figure at 0x1b0292bd438>"
      ]
     },
     "metadata": {},
     "output_type": "display_data"
    }
   ],
   "source": [
    "plt.plot(s);"
   ]
  },
  {
   "cell_type": "code",
   "execution_count": 36,
   "metadata": {},
   "outputs": [
    {
     "data": {
      "image/png": "[encoded data removed]",
      "text/plain": [
       "<matplotlib.figure.Figure at 0x1b0292dab38>"
      ]
     },
     "metadata": {},
     "output_type": "display_data"
    }
   ],
   "source": [
    "plt.plot(s[:10]);"
   ]
  },
  {
   "cell_type": "markdown",
   "metadata": {},
   "source": [
    "#### Find largest word values for topics"
   ]
  },
  {
   "cell_type": "code",
   "execution_count": 37,
   "metadata": {
    "collapsed": true
   },
   "outputs": [],
   "source": [
    "num_top_words = 8\n",
    "def show_topics(a):\n",
    "    top_words = lambda t: [vocab[i] for i in np.argsort(t)[:-num_top_words-1:-1]]\n",
    "    topic_words = ([top_words(t) for t in a])\n",
    "    return [' '.join(t) for t in topic_words]"
   ]
  },
  {
   "cell_type": "code",
   "execution_count": 38,
   "metadata": {},
   "outputs": [
    {
     "data": {
      "text/plain": [
       "['ditto critus propagandist surname galacticentric kindergarten surreal imaginative',\n",
       " 'jpeg gif file color quality image jfif format',\n",
       " 'graphics edu pub mail 128 3d ray ftp',\n",
       " 'jesus god matthew people atheists atheism does graphics',\n",
       " 'image data processing analysis software available tools display',\n",
       " 'god atheists atheism religious believe religion argument true',\n",
       " 'space nasa lunar mars probe moon missions probes',\n",
       " 'image probe surface lunar mars probes moon orbit',\n",
       " 'argument fallacy conclusion example true ad argumentum premises',\n",
       " 'space larson image theory universe physical nasa material']"
      ]
     },
     "execution_count": 38,
     "metadata": {},
     "output_type": "execute_result"
    }
   ],
   "source": [
    "show_topics(Vh[:10])"
   ]
  },
  {
   "cell_type": "markdown",
   "metadata": {},
   "source": [
    "### Non-negative Matrix Factorization (NMF)"
   ]
  },
  {
   "cell_type": "code",
   "execution_count": 39,
   "metadata": {
    "collapsed": true
   },
   "outputs": [],
   "source": [
    "# Instead of orthogonal use non-negative matrix factors of features and importance\n",
    "# Non-exact \n",
    "m,n = vectors.shape\n",
    "d = 5"
   ]
  },
  {
   "cell_type": "code",
   "execution_count": 40,
   "metadata": {
    "collapsed": true
   },
   "outputs": [],
   "source": [
    "clf = decomposition.NMF(n_components=d, random_state=1)"
   ]
  },
  {
   "cell_type": "code",
   "execution_count": 41,
   "metadata": {
    "collapsed": true
   },
   "outputs": [],
   "source": [
    "W1 = clf.fit_transform(vectors)\n",
    "H1 = clf.components_"
   ]
  },
  {
   "cell_type": "code",
   "execution_count": 42,
   "metadata": {},
   "outputs": [
    {
     "data": {
      "text/plain": [
       "['jpeg image gif file color images format quality',\n",
       " 'edu graphics pub mail 128 ray ftp send',\n",
       " 'space launch satellite nasa commercial satellites year market',\n",
       " 'jesus god people matthew atheists does atheism said',\n",
       " 'image data available software processing ftp edu analysis']"
      ]
     },
     "execution_count": 42,
     "metadata": {},
     "output_type": "execute_result"
    }
   ],
   "source": [
    "show_topics(H1)"
   ]
  },
  {
   "cell_type": "markdown",
   "metadata": {},
   "source": [
    "#### TFIDF"
   ]
  },
  {
   "cell_type": "code",
   "execution_count": 43,
   "metadata": {
    "collapsed": true
   },
   "outputs": [],
   "source": [
    "# TF = (# occurrences of term t in document) / (# of words in documents)\n",
    "# IDF = log(# of documents / # documents with term t in it)\n",
    "# Advantage is it is Fast\n",
    "vectorizer_tfidf = TfidfVectorizer(stop_words='english')\n",
    "vectors_tfidf = vectorizer_tfidf.fit_transform(newsgroups_train.data)"
   ]
  },
  {
   "cell_type": "code",
   "execution_count": 44,
   "metadata": {
    "collapsed": true
   },
   "outputs": [],
   "source": [
    "W1 = clf.fit_transform(vectors_tfidf)\n",
    "H1 = clf.components_"
   ]
  },
  {
   "cell_type": "code",
   "execution_count": 45,
   "metadata": {},
   "outputs": [
    {
     "data": {
      "text/plain": [
       "['people don think just like objective say morality',\n",
       " 'graphics thanks files image file program windows know',\n",
       " 'space nasa launch shuttle orbit moon lunar earth',\n",
       " 'ico bobbe tek beauchaine bronx manhattan sank queens',\n",
       " 'god jesus bible believe christian atheism does belief']"
      ]
     },
     "execution_count": 45,
     "metadata": {},
     "output_type": "execute_result"
    }
   ],
   "source": [
    "show_topics(H1)"
   ]
  },
  {
   "cell_type": "code",
   "execution_count": 46,
   "metadata": {},
   "outputs": [
    {
     "data": {
      "image/png": "[encoded data removed]",
      "text/plain": [
       "<matplotlib.figure.Figure at 0x1b026f4a748>"
      ]
     },
     "metadata": {},
     "output_type": "display_data"
    }
   ],
   "source": [
    "plt.plot(clf.components_[0]);"
   ]
  },
  {
   "cell_type": "code",
   "execution_count": 47,
   "metadata": {},
   "outputs": [
    {
     "data": {
      "text/plain": [
       "43.7129"
      ]
     },
     "execution_count": 47,
     "metadata": {},
     "output_type": "execute_result"
    }
   ],
   "source": [
    "clf.reconstruction_err_"
   ]
  },
  {
   "cell_type": "markdown",
   "metadata": {},
   "source": [
    "### NMF using SGD"
   ]
  },
  {
   "cell_type": "markdown",
   "metadata": {},
   "source": [
    "#### Gradient Descent Intro"
   ]
  },
  {
   "cell_type": "code",
   "execution_count": 48,
   "metadata": {
    "collapsed": true
   },
   "outputs": [],
   "source": [
    "import math,sys,os,numpy as np\n",
    "from numpy.random import random\n",
    "from matplotlib import pyplot as plt, rcParams, animation, rc\n",
    "from ipywidgets import interact, interactive, fixed\n",
    "from ipywidgets.widgets import *\n",
    "rc('animation', html='html5')\n",
    "# rcParams['figure.figsize'] = 3,3\n",
    "%precision 4\n",
    "np.set_printoptions(precision=4, linewidth=100)"
   ]
  },
  {
   "cell_type": "code",
   "execution_count": 49,
   "metadata": {
    "collapsed": true
   },
   "outputs": [],
   "source": [
    "%matplotlib inline\n",
    "np.set_printoptions(suppress=True)"
   ]
  },
  {
   "cell_type": "code",
   "execution_count": 50,
   "metadata": {
    "collapsed": true
   },
   "outputs": [],
   "source": [
    "def lin(a,b,x): return a*x+b"
   ]
  },
  {
   "cell_type": "code",
   "execution_count": 51,
   "metadata": {
    "collapsed": true
   },
   "outputs": [],
   "source": [
    "a=3; b=8"
   ]
  },
  {
   "cell_type": "code",
   "execution_count": 52,
   "metadata": {
    "collapsed": true
   },
   "outputs": [],
   "source": [
    "n=30; x = random(n) ; y = lin(a,b,x)"
   ]
  },
  {
   "cell_type": "code",
   "execution_count": 53,
   "metadata": {},
   "outputs": [
    {
     "data": {
      "text/plain": [
       "array([ 0.0017,  0.5789,  0.4383,  0.0834,  0.6148,  0.7272,  0.5092,  0.1849,  0.5595,  0.5037,\n",
       "        0.7754,  0.2605,  0.1207,  0.0962,  0.7108,  0.9192,  0.047 ,  0.8458,  0.6884,  0.3577,\n",
       "        0.5537,  0.589 ,  0.9998,  0.785 ,  0.0396,  0.9424,  0.9271,  0.2319,  0.0165,  0.1613])"
      ]
     },
     "execution_count": 53,
     "metadata": {},
     "output_type": "execute_result"
    }
   ],
   "source": [
    "x"
   ]
  },
  {
   "cell_type": "code",
   "execution_count": 54,
   "metadata": {},
   "outputs": [
    {
     "data": {
      "text/plain": [
       "array([  8.0051,   9.7368,   9.3148,   8.2502,   9.8444,  10.1816,   9.5275,   8.5548,   9.6785,\n",
       "         9.5111,  10.3261,   8.7814,   8.3622,   8.2885,  10.1324,  10.7577,   8.141 ,  10.5373,\n",
       "        10.0652,   9.073 ,   9.661 ,   9.7669,  10.9994,  10.3551,   8.1187,  10.8272,  10.7812,\n",
       "         8.6956,   8.0495,   8.4839])"
      ]
     },
     "execution_count": 54,
     "metadata": {},
     "output_type": "execute_result"
    }
   ],
   "source": [
    "y"
   ]
  },
  {
   "cell_type": "code",
   "execution_count": 55,
   "metadata": {},
   "outputs": [
    {
     "data": {
      "image/png": "[encoded data removed]",
      "text/plain": [
       "<matplotlib.figure.Figure at 0x1b02819c7b8>"
      ]
     },
     "metadata": {},
     "output_type": "display_data"
    }
   ],
   "source": [
    "plt.scatter(x,y);"
   ]
  },
  {
   "cell_type": "code",
   "execution_count": 56,
   "metadata": {
    "collapsed": true
   },
   "outputs": [],
   "source": [
    "def sse(y,y_pred): return ((y-y_pred)**2).sum()\n",
    "def loss(y,a,b,x): return sse(y,lin(a,b,x))\n",
    "def avg_loss(y,a,b,x): return np.sqrt(loss(y,a,b,x)/n)"
   ]
  },
  {
   "cell_type": "code",
   "execution_count": 57,
   "metadata": {},
   "outputs": [
    {
     "data": {
      "text/plain": [
       "8.9913"
      ]
     },
     "execution_count": 57,
     "metadata": {},
     "output_type": "execute_result"
    }
   ],
   "source": [
    "a_guess = -1; b_guess = 1; avg_loss(y,a_guess,b_guess,x)"
   ]
  },
  {
   "cell_type": "code",
   "execution_count": 58,
   "metadata": {
    "collapsed": true
   },
   "outputs": [],
   "source": [
    "lr = 0.05"
   ]
  },
  {
   "cell_type": "code",
   "execution_count": 59,
   "metadata": {
    "collapsed": true
   },
   "outputs": [],
   "source": [
    "def upd():\n",
    "    global a_guess, b_guess\n",
    "    # Make prediction using current weights\n",
    "    y_pred = lin(a_guess, b_guess, x)\n",
    "    # Calculate the change of the loss\n",
    "    dydb = 2*(y_pred - y)\n",
    "    dyda = x*dydb\n",
    "    # Update the weights in the direction of steepest change\n",
    "    a_guess -= lr*dyda.mean()\n",
    "    b_guess -= lr*dydb.mean()"
   ]
  },
  {
   "cell_type": "code",
   "execution_count": 60,
   "metadata": {},
   "outputs": [
    {
     "name": "stdout",
     "output_type": "stream",
     "text": [
      "['ffmpeg', 'ffmpeg_file', 'html']\n"
     ]
    }
   ],
   "source": [
    "# If you do not see ffmpeg in this list run 'conda install -c conda-forge ffmpeg' in terminal\n",
    "# And restart kernel if needed\n",
    "print(animation.writers.list())"
   ]
  },
  {
   "cell_type": "code",
   "execution_count": 61,
   "metadata": {},
   "outputs": [
    {
     "data": {
      "text/html": [
       "<video width=\"500\" height=\"400\" controls autoplay loop>\n",
       "  <source type=\"video/mp4\" src=\"data:video/mp4;base64,AAAAHGZ0eXBNNFYgAAACAGlzb21pc28yYXZjMQAAAAhmcmVlAAA4bW1kYXQAAAKvBgX//6vcRem9\n",
       "5tlIt5Ys2CDZI+7veDI2NCAtIGNvcmUgMTQ2IHIyNTM4IDEyMTM5NmMgLSBILjI2NC9NUEVHLTQg\n",
       "QVZDIGNvZGVjIC0gQ29weWxlZnQgMjAwMy0yMDE1IC0gaHR0cDovL3d3dy52aWRlb2xhbi5vcmcv\n",
       "eDI2NC5odG1sIC0gb3B0aW9uczogY2FiYWM9MSByZWY9MyBkZWJsb2NrPTE6MDowIGFuYWx5c2U9\n",
       "MHgzOjB4MTEzIG1lPWhleCBzdWJtZT03IHBzeT0xIHBzeV9yZD0xLjAwOjAuMDAgbWl4ZWRfcmVm\n",
       "PTEgbWVfcmFuZ2U9MTYgY2hyb21hX21lPTEgdHJlbGxpcz0xIDh4OGRjdD0xIGNxbT0wIGRlYWR6\n",
       "b25lPTIxLDExIGZhc3RfcHNraXA9MSBjaHJvbWFfcXBfb2Zmc2V0PS0yIHRocmVhZHM9MTIgbG9v\n",
       "a2FoZWFkX3RocmVhZHM9MiBzbGljZWRfdGhyZWFkcz0wIG5yPTAgZGVjaW1hdGU9MSBpbnRlcmxh\n",
       "Y2VkPTAgYmx1cmF5X2NvbXBhdD0wIGNvbnN0cmFpbmVkX2ludHJhPTAgYmZyYW1lcz0zIGJfcHly\n",
       "YW1pZD0yIGJfYWRhcHQ9MSBiX2JpYXM9MCBkaXJlY3Q9MSB3ZWlnaHRiPTEgb3Blbl9nb3A9MCB3\n",
       "ZWlnaHRwPTIga2V5aW50PTI1MCBrZXlpbnRfbWluPTEwIHNjZW5lY3V0PTQwIGludHJhX3JlZnJl\n",
       "c2g9MCByY19sb29rYWhlYWQ9NDAgcmM9Y3JmIG1idHJlZT0xIGNyZj0yMy4wIHFjb21wPTAuNjAg\n",
       "cXBtaW49MCBxcG1heD02OSBxcHN0ZXA9NCBpcF9yYXRpbz0xLjQwIGFxPTE6MS4wMACAAAAWvGWI\n",
       "hAAR//73iB8yy2n5OtdyEeetLq0fUO5GcV6kvf4gAAADAAAEdRzR55qyO2y7AAAFr4f/BaP8kHBg\n",
       "jZIeoCtZgm1PYByhVvpnlxeuMqhGZx9nRHT0ZGswRDkNhL2wRILrDnyaRepwdPEMb+VZZWi8EbmP\n",
       "JyJ9I179mZ+xHuse+DAARZOz++u1HHRSq1akS9cACvBZNq644pdNdljZnaIjMPk0Mz5CRg1fNxq6\n",
       "c0UMso47RfPYiDJrS8RBFdGN6I3K0sh/yrZkT24iz/Dtov/u7my8yXqlGZoEeJX36BH+XqXGMZ3t\n",
       "2zqCOQgGNNkneOJO9Z9igvwJPCBd9EOsb5SqZ1s94ItUDkaRBKCAg89o53UZyO2xvhQgUIUi/loK\n",
       "ZOvR5/lJo0XqrQwUug9nsDacR9UEvo4nLPX/04BZ5p4UY3/qD31Ho/vGW2CcOUKPnVF4KRr8yz9u\n",
       "NfEOogVWrs9Rs6DN+Axx0U4rLpEY/Y/Nx5+R965aIMvTLcOg8wLRGc04KlkO5pI5bz07rdDHeF+6\n",
       "yVGevBIHdoeOsaxfYAL2NhRhz/W5+DXcpUHvoQq9sDQFiRpj8jhI68geE2/Bcua/p+wOL946LyEh\n",
       "Xc9dzU2ak1L+ZzJW/KqrTbTkjDY79VuA76tx9oAuDkrmFJYdBmOpFWx2/oXEUxoLgzps+soLCWsV\n",
       "ZifLWU12Ei3b1RTp1fS2a18kMXvmPYqAZp6lkuGNGqs/z5snsSiOKtknh6Cv6mFNYiLkn8DoFeEJ\n",
       "cb76CSOH1BcfIMAexnl0Bkr4Y9hNNaKOrXZN/SzFX41NU66qIbyMRuldV3Uc7sv3MBY5l/TDSSMX\n",
       "tZyg3TZBWdaxmwlZCqHmDm6oMr49fwor3X9OBjb0xj9GmOcE+JR5383bDPFfLCWit/ESmyWWWPmF\n",
       "uMcAqmecU1tXARbv+6Ed5JMFkOR+j3kEABaRdeU85eiWLE78bEi2hTBIIatTZi5pItYFmDEtZks3\n",
       "T5DH18JsaQJEi7fS7fLqULJ03cq02Xg0/Ijs7kf/Sw3WNh9r+xo0XJ+7cWbPUSWc08IogTyXPT9+\n",
       "bvXQmZ4WlLOJiyg+6/C7pHTLYNaqQ46ircQNRomEg4Df+n9jp9buMm2GG0iJSIIvq0ZW9egXoEJn\n",
       "ORUV/xFjKhWMFP6ETpdFDljLGFxtbS4h4ZvEIJQq3XaSZBNehvYT9/xLEjgCyh/22pRI3F/EVor5\n",
       "EgjKg3OLG1yDoIu/Rp+18tumpwTfuVaTBa4cqNyD23Srdq+NxGiEOx/LZ7vO1rUIP6NdehbQT/7N\n",
       "76tnp+pQNsWir/sxwGkSWB0DILIAlEFHgcEKlVa2jst1Qa6ylIPD+f8rzlLQeI8K4xFGOJsv2Ay5\n",
       "YuSMaf65E2c6CYkYZExpAt7DPbtTEvSpnViSoDV6UpDvYpub+l76Z8PbaYgoF337t5GCiuc2SshJ\n",
       "L3+LWuxlxT6g2/xrIHhoGzwcrYd/ycheZVHlgvCXFzegn+Uc+rfK8+QQ/grPnDZFa9LLsFs7NDzG\n",
       "Cvj0mjrgta7KLi5Nsx8MXO6jvnfXzgTcMOmgB3s54Ryu/C4K862onyjllGQ5MKBA1dEwyubH57j+\n",
       "yI6iHIp4K86ye+ClVafhJu/MDh0PzqWayJSrOA1BalbuSTXij71X69IZjSoYxn9vQqs4JvTAknRF\n",
       "3oB4MXvdIutsIcjLUQ7DZxXQM5JSMcpttnQs83Cfr68zf6taPvvp5u/2HAdVSU6HdtOYB2p/aimY\n",
       "VRlwk7Guja8LbdW678xehpEkdmpiiPOzZ6/bRJzHuCnpoZm+ihdsMsBXScFN7orl2s/HxSTbm0xR\n",
       "8fM3rrlviF9jHdGW2dgkyJ8oOET1F8xKtLWOrAr4yVU+lI85L5SqrECxOtmOMxpdzRAC0KUMB9FG\n",
       "rozcqHwrb0+AlGqsP2hPwG1CAoDL6sT/tNx10jYErOhKFBFsAp9ZAu+Yal2Wjci3kaTu6vz7Y7wS\n",
       "znhCZC/F5cNRomCgupau0zvREP4pMzdgjYiv7kaXVMGTKVoMd86fSfV3fl06nFaITQJQtZE9IB9k\n",
       "lHhpBH20N61ssT+6EbvjDerya8ZJDoGnB3l244qqbgFDKWW41u5C+PdzrpN4UYK4k/hCBzs+f5re\n",
       "zcChhSY1+BWQ6g01eqTOSH8+YNNemezV1zOg4n3dEpQ4slbXJ5n61WuILlhXCd9/dZu9PcRp+BJR\n",
       "R5TsN07mePmgolyaQ/QNFQDKPQql6AySx7hq22pO9gj+D/OQAUx1UAvv2vfwo9s46Mc+CbzRVOlz\n",
       "AuO0dMlOHF/8OquYZIhK7ecBhDKXKrlDWzBvqKEZy1wlRkyUWnJ61JE2gmymbpPPdh+ScCH5y0BW\n",
       "nAo9WVvSDuS+m6Ff9y+t+g0dL9ylYiVTnuMtSmwFB7nkj7oMeRyAKm+/5o3pmWixT+YsZvV4hQHR\n",
       "G760kwyVtyKjHgVvj6sdiCv/oA8A8yooweMsqNYwYtio5XH5Rc/xp8kcqJBTNWrGU4OF0Rrsw1eP\n",
       "BRnY6ILDnp+bKAt7JiCwiL9HShaNF9nSej1wQLVlKiaAmmnAir9KZPxAXXfL+NtjZvLUcsD44vef\n",
       "/ln+B5ZXa+pXarqVat3FENmVJ9GlizcW3GyzvTN7upuCT58IL+BN5FM4ELE57/80bMa42/HGnPNu\n",
       "7g1cayqCg3Y/7qHzs+/x7Je8hHCHAX1D+CPNg6moMNoC9cxn3boNZ3WbxkQUj4Bdx8juDOkXJZT+\n",
       "Z5xdzmZocugBb0VpRKbAxEPutLjJZNriKL5xGyptQA3Q4M8f9Hz+jQORrH5ZEHNaPV1jRc//gyUa\n",
       "FkTNYYZgaE1wpTJiQMELMhdZS3AUtmPFo6GypaQ19V8jCdKmVY24VmloFHwXyesgqxGTF8/lsk/w\n",
       "+CHMSlkaVr+9F/oSnTqTQg32wa9NrWfuhlRuW6CsKb7RhTtL4BXV9h4AAgUMeYovhrJy4QsAGFbF\n",
       "fUCs7vVj7/dfc15FbHqKNJebaqY+BvkElgPdNv+KcFwar5xBI182gY/DrzU2y/5YVPw2AD3sJv3k\n",
       "qNvXq5ccJ/bITSBBCr/jA5tFV9KA49KWdwuNCV6OD4VZo7erfvltjt3oyP6yF+ByxJqL/GMF1amr\n",
       "Q2XWCMB/asnJ0adk8oOjPA67RmoCSM0fEwb2Xz2VfqWL6zZcVJagBY/5WWlcN1b8GVQz++XrJaOP\n",
       "1w8amxwmf70S7hHbj7dvWYnywqxg0LJFeznlBmiGnhYjywsTLsahe6vOM7uWvrBNb/5/WE23TBRg\n",
       "Koy2KBPurRDi5tsOdcMxia1u7uauctqXqwXOji1qS1B+gL9khKA3i83aDETTrjzI6hmcXQKpAife\n",
       "3lvx3u9zaxNCrgQQg1zcJLUYzwT3w6Q6tAqM63pmJ+ubOh25lLxnFZezJjjHR1J+88oLcOw73pRb\n",
       "ZPXaKzspSfRTPIEbkYTn73qxAd3XPdoScr8gGAZ1W107MfuqJJmkwLTOuEWtBX9h+HEN1cWi59IA\n",
       "O1XYcIMqsWgq6Ln9A+9QVRmv2Ktc3hFKlmYOuJ3udnximRWCY5syvIpPeO32eePvWhMam7vKUxzG\n",
       "JDjK/rBYUT047bo/btBAYzeXLvSM15zneKn2mgTfIW/bRHkIyeyUHk7JtGhCdqmQJ0jIFz0iv3bQ\n",
       "Ea0E7rmlV0DBji93YEvgVM9IsR+3l9D9lK3WvFPGQbWlJY7AzBdCi6QpQ/VD+ZDc1VTDoBPkyGXd\n",
       "EJ7QqL8Jt7qXlaFXUMPm8qKQfIMcvIMuxEPronlDqMj8G31sBhMkDrN++nFfVCSVC6p2LE7SOQ88\n",
       "FNFDD5p0puQjxKmNwhb/usLorRSS0Fn9pTT9TtcAmcMAIOV81l9Xy/OcQo+VratRkyZa+YuoWuGi\n",
       "WT4f12kW8YwYHq+uft81WZU/brjdDZ32NG8dvY/zYKj5rEvPW3pS+sr5Do5B99lGdfKk2vArJO6E\n",
       "g3gEI6B0mUTS4+mtnqXLNmd3DurSfQtneM5+/GkUZsp7eijKWdA2tZ7loDonvjqDOlCEcb3/Oe4J\n",
       "XqAvgqxDlevKRvcYe7qJxLdiriJHEgzC4ww5jrnPzmg+wFYK1JRxaA4L9RZ067zOSQ6EZ1N52frQ\n",
       "rytCz/IHykyueMWif39cyR9vaFjOkVQhR/z1X2Fpa8u/B8TBE1C1IVQPNuISeLXljDSAQrWshrgQ\n",
       "pu0t4QQ0861jI7Xq8TVJL0MjFjMyEsJn+uBVy+glWn+SxTCDuwvKe9FnXJVqk6rkwhw1FCjLDYx/\n",
       "Amf3k2gNYczrm5T5P2NTq47AxHWH7LGWMYgxrrvDMA6izt8V+Zs6I6K8XJSUN/uh+UEFXMV3Up1y\n",
       "pClHad1RRJWSQbVb9OFqkHUhzCRJt/+Tu9ihigU5lLlKLO+8+zgp6dwDKLP5A/qywV1HAdT3h11/\n",
       "BJg0aDbUnDytUXqedslEGyGd9tmtduuAECOrlMo7CuPVI7pwgDBns1Yv9awAz5/GCz8iR2NGdKhi\n",
       "ntOT3CsBIflcJdHWtYwavDw6yvDBxCSc6kGUsu0tQ1LKgXEIciWpkF51NPlAKlohuVLaQy9qbOGL\n",
       "69ubyp7iUzZ2++kddbVpYv27bqdhfBh3ndFQSVg/jixLRh8jCSUN+5tEz0LZodBWtAOWZLyKLky/\n",
       "MVZdUKfUfMZeLE3xPqS0xPBce+Kkb2eAo9oUff+9aWz5zpmjFGshOJTU+5hQRLKrMYP+g9J/Rk0L\n",
       "g69BE4SwRehQPnSROWRuXqfhCNAa7lbNRCxhlw7rRkE3KUy7cauqE646ulY6siyo07gFaOVHE6fv\n",
       "FwQKEXP6iGOLFMDDJgtCBX8eb8K0HvjglAeZ0ZtsVuNhp5gZvT5tR8Jyzf3tF37cmPa33zXUvcZG\n",
       "FRJM1FniWW1oyNAVjn3s3joIxMlDC34pqRAnrnpjS/wZ9m9BNTYfgRujZikyFV1RtBGuCIVlqo1w\n",
       "8wyG4i8x44QTzztvfft/ySZK8IVghskHZIbsMqprfkeKU/BnaEbTPgcLv6AXctl/zxJR2uxfG1sK\n",
       "Sb4Jv1kKYpJO15bQGY+kFtneY+X1hBLQaoGDvkIGsFSmajufUv2q/LiZbysrnI+74h8xXgUA9a84\n",
       "tNPL4a0tXrP84oJsyQxzuSgN2n+EulDmi9qZqbJWAkiYxFNNNqiqMHHgonLiOX5GFMt00RqZ5MiJ\n",
       "gqkvyeKUwmg9LYODF3gXg5LU2GFT3MzfC5X5UwhQz0WpuOOUgf5AJoasbRyv9Lnkg6JMQrA1DZSL\n",
       "LQQUmi837c8GXXB/5GHs6cBhImvHEJtEwEnz6KA+6U416+JjBnbInpx/ShUB04R7RAHNoTobmgNn\n",
       "JeeGPVA5Mg/++UxfqmcGAD2mHlWVHmxnCvB1+tHisUuRwnVFj049FxW5ndQ0RZRu/+stA/MUaQlB\n",
       "AAe6ZdPkDCJm274n7FBG15/BtWzJyKsmAAAfyyAQhvAiYpFtgkEfm/4lqf+WI33wb5UXCasfnzc8\n",
       "5pVQVHo2pCZnLBnuq/h0Ei/3+8r0T7hzVUWZK1D1v9KI3GBt+mGr3VBsKodMyL2a4LcJVN9I59KZ\n",
       "dopnUZcef5SV+KwZoXr9LkD7yj3vaBCuHmDsncKkkeZaAWp9lA4AGAndmnSnryqANJvjiXEUhoqi\n",
       "qdYJrjE4Y2Ms16Kjyfhuq3rq5eLWuSop0m/HtiBEvAZ8C2lu4DTdymV38W9K3Hi9S/O9A5E8LIij\n",
       "tRuKP6dgcPgH7VccRlLPHtUBgxuWL1Taz7OGf2GQbepxfl312dhTkzGABq5kv4MhGvt3Bslv3ain\n",
       "d/s0xOu+s/TBVtcb7uwa/+Uaq3LFcol92zjzViR9okVrtC2QrE2GInEEGMETn/yu1Y8JlvFHi/Ar\n",
       "pVnWx6jVY6lo4N/+gNMOOLjYmehAQ/3jJgGqV2kJBnB/GW3MzQHrjIwTGUd+vFf91kq997VZ1cXZ\n",
       "/6mCmTLQ+C1r8hvnG1jAXZpzYsOOGW//qspPgDY4QfJSwY5/TUqdnfWRclI60/9ASP2wdS4JZH1L\n",
       "2xUVwmMbV/5nnoW2rOWc2K23WrNY6i1Sm5KuxfzPNkewnX8r5zM0U5NrigtFw5qiXtShUPti5c9Z\n",
       "NuYhcwMz3m2wICKhlL6VvK4Gx3+iW+taMA1GBaUwUd2hxrQl43GgLU916LmdB39m8uaSDb2WSjxk\n",
       "g7sRqo77ZvFS1VqQaP6grQcoSynOacYm9W3lvfBEfg5m8VAZlZrL0qVNsLYBke+Jui+dYQKIS0tc\n",
       "kgWNVQHOhPdx44Jo+yn9K7Vh8XvnlI/GEh/MFnTPjsgdUdlJf2pgKmUipG10zz5lvr4GkJO31r0o\n",
       "EUg77bTrakaxnK5hzlk1Rz54qKxAv73nvVfdzF/D735djJR5LbPnNDAewodVCIilSCk/GsTb718/\n",
       "2wNVhuJgeiJ3+aZ2rIDp3g9mVJfWen0rC6hvaHy6x/EjuJJBYbmcsQoJlHQNBfz3698N2Ihhdgz8\n",
       "ul1QDVBtB/4/56/47rJm7lPI48/kqENzsOSoV4rgGf2eLlGl/KhY+/pU8ujEYxD2SIwOxmGi04me\n",
       "+S0gQZxnCWdUtWCW6+gH67lLRXBA4yMSB3Yoj0DNY05Tr6pd77M025UOKHKkiJt+JvwtE9UQMCco\n",
       "d3aRLHgPf+XCJ19Nj96cLsBCF54bL3uSf9Qz5T4tZ+3uRj4bVu29pwBcD1u0zq0658osvWMnrYuC\n",
       "QE4wj8NVs0e3Ew4LeQRaR24G9BfwjJn5foTzrJ2SiS+8XzuW7vWF4QSFHbSvv+nt2xRb3pzhl6al\n",
       "jLmm7oSZ12fjTpOXkgDp2h+AmukxFtSu0x3NQdOeWGgZjsEkQRB3xIHkRD50SfqMf+G4TIrX36B1\n",
       "pLCNfkD1nOgvkTMeke2XJl1r6Phpcaxry4d1W3EUJMWTiqtflUq5XTMmyKFKTpbXEKpxDVRr38f+\n",
       "pfNprXkp5wnmNCOsJxbgYIwKGL22xo3Xq8CQJpJ8feUdkPOHfqwfrc60KIvpP6hnlcasXDebP2HJ\n",
       "3YPiQLlssSQdfmUEM+qQWfrLggt8vB+m93sjK1rr8hOX+7v+/9wTZjcCz3JuGUrgMi1CoCARFL6T\n",
       "lVyAYWWgwDuQTOST0APBb8Lvobe9sl8iJCDDu4TZuPQm5bi2lnHtKTDfHHLyv63AiPVeOg3Ojat9\n",
       "O7q3kHT5El2fQ55xZpxhkGwHhmJCeVl0Se/1NdY5AZkD9Y8JYHaTH9QAGsZFEuXCKjrYEOGN3UdQ\n",
       "cqewk/6KmOLMkBw5GlDzmwZ17OV8KUtoxx6+mFfnqTL3GaB/aUUDcSai7FhuMcDfy6hUF1pJtkpa\n",
       "AJxx9TTLGXBAXtLFkzV0RF28AaRTS4N7Y4stJiZCiU964ngVlSdb2p0/nnGfstaXSpuobmU53VNx\n",
       "pocST9E3d/0GXU577Wtunz651PXVenQt2bH7oQMXeA0LMkiL8yQHP/k8Up9YmEM41q4fvaKifNFu\n",
       "ieXOgPNB3+bQPymH93umUeWTedzCQizww167f3FZPJUI1MitxFo1TCAmmoPRKA5aDyGXenZUqn2d\n",
       "p6BcZWYrDtn/rDGn5/Mex6Daob2dQ3ynK3iLI58pibm1IarDiXprIpEEpYauKHR8rROt4kLT5AAY\n",
       "ti+maAV9DDd3xNc5tgJktT1qIb+bW/bANkisF9sgHkDbKq+M+wam+7wARicuUpO8rofWTLg2HPDU\n",
       "o5U0jixXSUQPrXxAaYdYzPJo65YR/mXRRR+VpzlWkUtnygdSQWlFbCB/IhTmdGoJcZtzoar8xthg\n",
       "AABQQQAABb1BmiRsQR/+tSqABUxwwYAoAXUIJlmj/faLGFPq2UowPN7z4iL9F1CrgBimLQC30V/+\n",
       "RAAD7JfsfCwxEicBu9Ge5+7PlPU55UhdTP+9KZvAD1nRNTsPatmQcmVK9uvTE5vbhkJr1KfAQTQ0\n",
       "FFl/NrZAdtjVAC+/iFq8L0cR67vFxNiiu5yByypadMcucM8UfQxGT68+t1iCN4ye6vRo2mVZV3w7\n",
       "P+EgreGhZmWb9TNszhAcHsMCccZp4MJ9ic3cOSOBtnr/2Sc1j3gwJXf60hHnVwbkJOLKgIyHZagG\n",
       "t1vkIepYZZgvK/zfalVSVFzMno6xjA2Xo2jhUlZnVBmkg6X9fuc/8okSEm+AKkDSOP0Bl/nQlDMW\n",
       "VwaPHVt45+iuIFSOmkRWbYtthC6XO+cxI01i01KiN3OG3YReWoBnqrp6Ohxc8b6zOFo7RZ+MvijT\n",
       "TrNwPn9nzL6BJ1+sfOj0yXvh48JghXQFKIdQhRg5q4bf8RieE6UtCpfidCSGu/R9vxbKl132EoZw\n",
       "TG+KczJbf1iKDp3ddoUzsV40NaUZVxAl3L2TTlph5nCx4OE/Mn9qxfjfYEj33iYNKvuyU49iTCVe\n",
       "rjp+OfmJD7OdaxD0sqn0OQXJ1ZnzbIHbPYgz+5gsEsrf4izP0jPBWL5jV3om2VLhXg19ZWMu5Qqi\n",
       "s9Euc7b92to9LCjsnct2VuBncvvmW8/vT/BaAAS0eSPKm60sGr4b5S7E7Z3/Td8LVOCdgu+XExUu\n",
       "38ku4MAXuXHcRHU/td3kJ9Xfd5+qiUXfqI4M20FdNIYcqqO/2qSS9xZNDS69+f5bYD7kjKEpJUkt\n",
       "gtvepysac+mumF1jWLQARpjwvvSfPobgJg17rX+aQ7RYS4HRUscF2cf4pyNZFF/RowvFDXhuyJLO\n",
       "TyHX9TAvzKuySHEu/gVM7lvufItdWcFS3m9sRKBRARWgTo30Zju7zHFZpyFmKXSlYLrXN1I68ZiM\n",
       "80UVu8ixn50F6c91CTsrXDD/bAMJqtTe/x5WgHtai/UKbMHZsL+Nz0UhInU3SFaF3AcLgrWi4+vJ\n",
       "UGw10m8GOletv/0o94qFfLgdc4H3ONC9hD8z7lcksHiMnn/dv3xynluBtmbtjCRUexyGfMeIEHmO\n",
       "5A7izTPM6jZFMKjryn4Jk+6L89J7EJK6vOIt/8gleMEohZ1uThFHylMiSPL9vViYtfffTXG1cuoi\n",
       "ubZHQUUcTNw0seAwzgqDMEzaQvNwRlF16WaXQI7jVXRgUaAYpduzAwEK/VoZ71JhNd99/4PQGXPm\n",
       "8zFXWl91Woy4QI95K5yE4rUuLuPuSsTPE1xMDVpP27Zxx3MNafqhhgJ5kRqZRAmmWujN4G2aSbrm\n",
       "fmlgfeLnikhPMVYmCDgj7qY/w29BCV82cHUltr+5yP4L1WTEgK5HhTLggHg8i1IE7Q1EItsOP/dS\n",
       "6Jpe1E+0qkZHUOnhG6neujRU7l1PlkKPuEbqMdWI0YErhc58OiYYSZtnldXKhrSXph5qKLgucd4R\n",
       "D7T1xXPscXAR7rkcAWdRz9RExGEnGi3jyEn/WGHfZGCs72ZGy5u2zsD6q/8XD0abecDcjG97UthD\n",
       "5Tk2mjK5p6703IGw/k7fuLBa8kULFpT4hifQDl9ybGXDKHqLZTsfNPvz234+qzgb1OumFC45L7Ho\n",
       "4SOuAa6EWmcLvsmrC72pJyHBv/xsUEA49EOu7G1WaIMibjv3qkXqIUVOfFyHH708fKwNmbjTEBLb\n",
       "Gh6ROoh0/T6d4zVu6oM3wFIScO9I6T6vIp04AspJu2Av+fNEwqXe1HknEFuFWyosxJC4NnebigHh\n",
       "eTS2oqeqYZli/oECtS7CulYh+/Sd3/r+3VAqlZhiqDCnDntI24XgfL1+015RnMs1ueHGOaTd+s9i\n",
       "BT32Ev+XTFbG9nFgPqktns3WfOIL6WQAAAMAP2mAAA/L8p1/AADgQlyYnpr1iwuSNeza2AAAAl9B\n",
       "nkJ4h38AFKMa1sTfm0kADtIt48ODYrZOc8D29TSzVsHjBCzedv3vNf94lgSy4OCUulMnJyvRuXKo\n",
       "oQCQf4KcZ142f9EeFIp0CVhsFSoN7VQUgwN7TzNorZdEZRNipiaJiIwMM74KXtvsMAJO5ZXRXChH\n",
       "1ks6YjQjEk1yioNyc/EaP+SlcZAxOgRu/G/TD2tLKhfvCQyoidlsqOB6rzirOm5/nmHI73eC3He5\n",
       "ZyZcvXbGGxCRD98nRU7U3TyckktzMtIkVwqAi/FASBWLvhGJ61TwnCu4EposxL/RWIwEf/KR0Eh2\n",
       "vqxPm+RojzRHwe8SB1HGzBPSpO0/ekYtA9BWRZye24xxAw7QaBpznyK/Tf8nwIJ+eA36mQOC9oCL\n",
       "Ok2Ps+2jeWC6d0rrV8b/lAO0JwqKNlpYqK4pOj4+Nyk5MfF5v3+QFkl8YJUAjU1CZRoTRVG0w6D4\n",
       "pzq+lrOLpgT2gHOeyeJ8rg4p3WvXbOxQzRNvC4Zf1LWF0CIQV//AVBoC46kncJOglFkgt2+3itjk\n",
       "YJGZ8FcphNFT8rG2lBmrdNsWHNGSZepwJFskiMb13m4f8D2OXD3rQCH+W4f2N3/zqTGUBxt7vutd\n",
       "ufihdouNNROTsaMds1HBvKo9AK/qYqVLvNq7TlzL4h2vOmG5kzqy7/feFHqdutn0br4UUIK63QDJ\n",
       "OR+P7ZUFq0vOVss4cwayh5GN0qcyamVPW10ZSUpoZiPjWFX/ZNa9qu08cXrjPtPNmMiLGheY4eeU\n",
       "aCKIV2nKOkIuqG5B6bsrK32YAACVagABrrq2gAOg86JOqOuBAAAEeQGeYXRDfwAOKe9rEBuT6jPn\n",
       "3QbwgAnb3mcpbar5iUBL1U5D0iiRN6avnYL0pdxYfPNRysu9TeYseyQw8mjzbYMlEEkq5sTk3HC6\n",
       "44eqIVzyw9AY9fS8xPvAFXIzt7I1i7zwbBXzffgGuBCCrbGWvb4R2jsPDfCqKaDWlcj95r7XILaq\n",
       "1UKx+GQ8p3vy8Wv+8Q0u1nt74EqUgjeAw1d5MI9Eyt3RlMUt0595WWeEmjt+s6TNdZKt8zsEKv+/\n",
       "w3H3TaqfeemSno9VKiXhBRl80qJJYIpEnRthTghvhwUcYtrVKCJa7e9wlmsWWzQrxAGXdt3lQ2j4\n",
       "C5sEBpcV1VHLMutIozEIHvg/1L/iQ1zoi3RmPs8q7e2tcamqMQ+T7RTcA/tAEGYY2UkJIFP8Hjiq\n",
       "8CXNpkd69abAGZh2FxK9ptqyaRHWv+8L1Pxx3Rt8lqjJ3jCmSaIlkzQ39a0jzNGnSac8naksoDV/\n",
       "ZKaluyHAabVG2yRfF1sEuKtHlWtxgcBu9LEIkNa8ZvwEtq9j3w4ruePk7m0Hs8bHht3OsqhHpPt7\n",
       "1O/C9FjAZBfB+yU9f8cPEU8JgHN1qJz+AiYJ35Z3xV2Fq+zuhMHQHit966MItfIMzuNN7Ybi2Wng\n",
       "u/a19U37VYnJ7EZfKFSNwZu+hAIHBGK9BW3y/YwN0zuZwoDzr1X9rCN8KotJ0z5H0guDRFz9oLCc\n",
       "xS7LalZnrUVrVYlw2511vsKv4QJw+a3E75aDaBtbPFUOqV/hrwhDd8W5oqLjt3i0Hl1FkhJy9zo8\n",
       "0ehIakXLbmr5GB1LwVU9ChfJIauFf3N9crToMxIHTdkuOMvOZJKtISaOpl3Euq/ckR/AoF3XZaCl\n",
       "1OSx0RWs5Xyvns2WnS3QzwB8S3kv+NWI0zQGCYeJ7UXKLLDFesB2WgsR3NxcT2Z+SAUsI63OuXsJ\n",
       "+zYIfstmk3MbWHrb38gk5jBl9bX91T9SAjxPZHgEhQ9KzEPWexEEUN4TikLbO59HAyL/Qafgeb80\n",
       "w/TwFQNhPwzcgv3YcY0zxD0Le/lDtx1WzbMrZX4OuGAEDfq3vHmVc91kCxdSfJm77FgxhHeFFYxY\n",
       "+2LXxZI0GsN7Y/y3SlIAt0gsuhIiaP6L5k1UTg11IdsAORguFRr15PaCwuw85I9j34mWpwEq5Lj1\n",
       "K6yAtFNrsaaAkW34I+H+/B1feCA5gNdij9pfNqmeK+C0QJs5VIBTizNoGjc/0l7h/5MpoJ7YAmqW\n",
       "/vdlyPaqjsLHbfSUrHqZ9EAtFJs1+AgJAJPoOPzU0SWSIh67aW6pDn/fEnTSeQLp3nuJUYrQBbUa\n",
       "gnrVhqHtmiv55goi9Pm9YbjDPKwxMLWSyawJVZaA6dIb/25Z03wMsj7o2iu7MRB4T94MfosH3VeO\n",
       "BfUz2aSnsV2z5FSEDJD9dGUC6pw/FHrb4TCKUaBoy794ulEy4E7MyavGx3PtJi7JDsoUew+ghF6K\n",
       "4s2D1lSlw8qI3LhsfXI5lSi71FHwUkaUbxKri88AAAgR4hCAr6yBAAbV9IaAAAABZAGeY2pDfwAO\n",
       "ersJIt4SAD7USOVQYYb5dNFBj44t3pbrLA5frThtVg7djyjlaqol5e3q/e8IRpLtixlmiFIsmg29\n",
       "s1bnPmJ7jHSQIncLD/MJ9GsgmLVOh0e7mAlUCXlrHOaeac22twIkhYXLw2ltukyDJGEPcEAxHE3k\n",
       "Vz7Ja1Jl6VqYAVCGAvw1dqfIn1c3cRuBx4/qasTKJ6nF+v11OehTUbYQ5uwYmrkYefVXfhpCInBR\n",
       "nMbBYr1HAIScvN3tS365PNHALuOOk9Uq38NidLbSDfEEBkyTMi2VQrlOcwT+jyJpX4sC+S34okxD\n",
       "6b77fg4i47TLgL8QxFu45Ev24UdLHPT7SoNPel9Wugrt1IomcPBPSDdtwpu/Jy9qRG8s8a+qNm/b\n",
       "rwPUlDQsXbWwrk6LHTClDCZseRwRQeScILDJvnAvr4JHbWgbd6zmWW2Q1hgyn2V7643LdNy/m5F/\n",
       "9aAEStHBAAAC/EGaaEmoQWiZTAgj//61KoAFcJ+kAFguGGhzILUoRKe0Gavp7bScfT5UX6ybfkU0\n",
       "xSRgPp6szT2/PsbvHoJEMyBBnH9X25cT6ZH2DAgEsfPxt9MxzZN64CBD2McNu9OsacJIsL9I9z95\n",
       "viyFdFxjfwUmdK8riK7qIFdVdMojS37gkLcm1ez7JZX2mhRFrVnjc+MExNNJx2d5TRbjskXUljx7\n",
       "mS6sx3sUUjlq2fn8kjt/02Lj7iRUFzC+D5PGNZ88uWtZ5bJ9mGCqekqMZy9mk4KAtL6LvStre55Y\n",
       "inhx6tV+fICGe5xwE9YG0ubX6Ta8T3BnXN4LQTe+E7bQ9CDUQiaoZ/I42cYFsGOTrwp03rqJQnt3\n",
       "72xVmr+jti7X//2UIJ1VflJfuCGVLr5DFm7rugv79NnQFVWQ1GKInvOSUMfVqs7NRkQi/1R6Ngxh\n",
       "VJkWxOGlBcyW/njgiMj51K8/tlCU4/Ng7mbJXZ/2VkUQXSCkyz+dVjSu4QEf4Bvcn1NXt9L7J8Au\n",
       "Mq9iyadA0MXxloEjAYOVJFGcH57L8Qbe61GD/iRRdNfCju3KIrhsV0YAN3qXip5t9p+6RJoAh9+v\n",
       "1sNUD6zS3w4RQVa7tZbClax7gDxf0ManBoiTm95C/Qa3GnahWKg4NSlzM7mJxCNKy72zqTRt2MB9\n",
       "IN8JV+KEzcUsB3/oC3PU9xmyoryfhXzQIROpEOjYUigG9dZNt7QpMI7XIbOmyrAulmNrvA1VsPvJ\n",
       "5Pa3QNLtI5s6gXPI/KY0VR4cykjeG/0PC2kBzECWkE6bV3S34ThaKQX+o9HCNWnqXPStYsamW/hT\n",
       "Ld6PjBXQlVVnFL/GiuPffKO7YJop2vRDe+22iVJpM/gmeRH6PygsluzWn7WkPSbuVkhghdvgI30k\n",
       "AojQryYE/M7iFlMvfTY+of652UeotUDIB9whXCj5bJ7r8B6QIxwLqyXrhNbQi609iKdJg8+FHbVG\n",
       "V9TEp3QLrjH3r4uAIz6gRTFhPiXCgPdcQPD7RrnaDNmBAAAAtUGehkURLDv/AAqfmoALpQCa1G+/\n",
       "QdGuMDROKBm2rBxB14fBq44kUsizCocLJzA0ueZfxWfYyncOiz3IbKOOaVX0WfqGsrpUrKUZQ67e\n",
       "0IpR5DNSx8iQlE+mFA7ESJSHfsuVUt8r8Bbb1PAWAaVuwUnrSZoA53xb95zS+XIY5x2A29Fq48Hu\n",
       "SyMzwMCkkQGuw7nG8H07hC5oWFHGLpGcDnZZ75CI6NBcxSDdeCbtq8aAAroF96EAAABxAZ6ldEN/\n",
       "AA9iqpnLkALl2ab1HuzPJo1/YkMdA3sc/T7yLk5pI7XYdRFL4A3AJQFopC2Ty32LluDBc327myYo\n",
       "MTl59n/BBLuS79voOJwlfSodufHEo6qsuSdEUFACmpSAuEm9duIaKnWgh1BIAAt4FbEAAAAmAZ6n\n",
       "akN/AA9iqn6iq/SWju0UAcK6ZYcyi8Q1J/tKJ4IMADOIDJgAAAIrQZqsSahBbJlMCCP//rUqgAVz\n",
       "JHZxAEfImjFeVDdpptKLxxpW68yaKfuhmchnFmjPAFKnA+R4wMmApg6sayevd+KAS+l/aGFqullI\n",
       "29fkDW1msi/yQrWiQ1SeUZXMccym34ttw9lUaC1cckrLElU7Zbf0Uqa42CayHEV8Ycjb6cEDWMLv\n",
       "4NfZm2FO3gDdOO9dQZWjM7btvfUP8wzajLsBk0iilSnl0cdc7nsYWO25dFaogBHs5/S/YoxX0OT7\n",
       "iUf8S5s0rPAb20WwBKbQNKJPJbR89lb3ywvYCl+JOpvOmgfyNCjSSmcaWDbHo/d2A0r7BVkf93tn\n",
       "FycRMZZE5/PF7mYoM6QieUK4/yJP70/5MhyWkRuEZ6OD9iFqMz7qPqaVQHZDTPtMPAn5Ld84pW0D\n",
       "pU0M6p7+t70ZJbvAyLyqMZ2H+9KDNWypRezqYOc6ePquSaBKvTeB+p5yhSSuoD3AUIUSGVZ31NG6\n",
       "gq9uFoyn7j09Esl+jjhBNPNhyOriYEYfRk6716/8aWrxfdj9YNHRZ69pyzZozqrbAGr1IyOYMq5e\n",
       "K1mfyTLk5DFpvLxIe+OjE8Hq8fFgqUDKaOPouJgfeajGIesZVOARkWezA0QPC0AkDsMWD1s/UD8C\n",
       "zJmWsdVtVRb/WQgRqZkmhbuKBk0r11pCfs+jWG7hR3epFSqQEkQVo4uu6MqWtZlUurwse3KfH/74\n",
       "y2uV+7bnHWcdGiaOuAuOQH1O2e2oAAMCAAAAW0GeykUVLDv/AAownXOnUWB1UsloAPlJHba5axPT\n",
       "BU9MmdKtGLvJ8+iJZhDuY8y+3/1EVQsHERC37WgYBwVChJ77DInENvpgBXhUW70vKG7E+9b5HVhk\n",
       "AMlaBd0AAAAcAZ7pdEN/AA7Z8n/rqbgJXUFs0CaGcgAAkpZN6AAAACABnutqQ38AHaURN6DnOBVh\n",
       "bCB0JO5xjuBBDgwAB9E9BwAAAgNBmvBJqEFsmUwII//+tSqABXMmtnEAR8MQ5O9q4hJQFcl5SbGC\n",
       "A09dkTR2mIUcjirT5zIZ/0x7hujz0eV7p6Ets+CYTiyQEFDBgK3ssLWiQunlIe3rSAC0MMi8aiIT\n",
       "N+/mFPs+gaxKrm7hslBX9P9lyM9TSNHrK2C9wP+x80TbxWnF9B6gp94xr4hBnulCHWG72skMHOJP\n",
       "sBc6DmBFoqd5eiOh3Oig/yBxsIsdvI+N2A4TsGNlAEP0ZFVud9tdNrd8fwh8swJXna8Gazt0Ca3m\n",
       "Na1LxnNthysWUK6LARrXt0UwZ2xvSPudnfqCZxqSTB0r32VAHChnFiROs5YA3eP8LZcvF6eHq4+w\n",
       "LKpjm+elOA3eUF/aBZjf+KfU1SkRL2v8QN1nzZlcjPpkllAz9R25d4Q1vVRlgZ96QJAmjWFFJDP1\n",
       "CSLwAe9W6xHdSM1fRLt0joyeBjjIBOrL1mvRa9F8Bc9YrfJmHN/eY+zj70iySGXyfHLMc9ndzj4v\n",
       "jmdRoG6dYHJUefX1NvKg4RomhG/ajBUHJOCb+PkX1ee85PVJ7hOYbTVfjsX/3HtK/Ebode/lzpN6\n",
       "3xmki+sZAMtOXSvnUdPcv56xtdC6Jem9Vc4yb/iaVgH4RFu5DwSKBYLq+lAyxYV3PctbFThiHFkW\n",
       "hnHlliXdbD/jBQWVeKUWiJcRgACJgQAAADlBnw5FFSw7/wAKRJTBjQAfoxCTJGR3VpH/rfk+BA0e\n",
       "wOtQ73IJQdhKDFwkJ78cxYRdME8OAF+iRXcAAAAZAZ8tdEN/AAY3ysNrIyuDT2p1t6wFHPxdwQAA\n",
       "ABkBny9qQ38ADtlGnZcoDo7MR11KHACaumYwAAABrkGbNEmoQWyZTAgj//61KoAFcykdVgBEqNEe\n",
       "jJsuMMdTQOcx1x42o3Hm7dJfCBiownTn7U8lSUrY9V+pqHvkKxla1SbFsvxC8fdMCb6h9n6La691\n",
       "XRhmiXr5anLOu2l6RZ4vSLwvbgOqUuKdAjDABsTN+QDUpYmpFBE6m/68kjHo/g3MzigUqmEJll3F\n",
       "qnuy4FeCIfdDFE6pbMY7qR3m/UyZDWgUUwr9dPMfb0rk/UA7qCx95pwEQu5glzp9Mi25MzvkE2iU\n",
       "xu/yWnsoqa1VMCeAuPkhWVQMhIt5aQBADxC0YAcoF3oeyIy0upShjENEx+06+n+V+bMqbqQZhHSP\n",
       "lrC7rr5+sPcLs+ICyNz1m5Uh6oSjAeP8EZ7jYcmntkNbXx/+vgfORyl2C553oGm4l6L3lVoqAV57\n",
       "UzI7sx/tzv7rz/BcsZ2QGq1yXQIvTIHnZwDdG9cBf3PDokGvS2Y/etSSsiFMZqnTQK0gCQPiabaC\n",
       "iYfvi3FnewVq1njS2YI9RYNieTJnZ9YEhimpeUqgOQy9YPOouWB/zy7BoHPzGxYvhcqAtlVF+iQ1\n",
       "+SagAU0AAAAbQZ9SRRUsO/8ABFYLomuIoa8sR+/QgEV5xruBAAAAFQGfcXRDfwAGR6wQseRt0uQB\n",
       "fXAMYAAAABUBn3NqQ38AAeYo07LyPOrAAUt/2ygAAAFNQZt4SahBbJlMCCP//rUqgAVzMK23AEYp\n",
       "G7oksHX0LL2xQaMY/ljb+8S6wm7BgvttNrZH0jpfSXCx/j2s1s0VPH3kdrjB4PPBuPlBU3U7ELro\n",
       "PDYqEAq+Z1VDTnjVWj3+jLy7td2N30hILEshBBo5Evrh+ymzZmmNZ9ozVgpqPp21/KFZbZkk4sZm\n",
       "mXgKCXORdgInQhAuj6zdeAz/zXKIpBX8XOHr/8UQi/+DtXWjkpfMg3nCQoRob1wT/6Qsq/FT5EQg\n",
       "XQ3QaAonRtqR7Xpu0fObqw+RFQQfOXYJgOQGGxTRv5vOHZr8MPcfnM2+IFPGciQ1gXNP+7q1Ru5v\n",
       "CnPROHDrtHgxMDhBPHIGZSrNVKOhpLDfnYdSYdorK1E7+BcqJpEd12iW70Iz7QVD2y6+7wuNn0vw\n",
       "yoLuMgnHkVpee6ZzkITe7B3Z0vwgACghAAAAGkGflkUVLDv/AARilRjRo5KsGMP24BBZTdWAAAAA\n",
       "FQGftXRDfwAOJp4auHMvwU8Ado+jGQAAABcBn7dqQ38ABki7QjGy18HpYLgCxJ+KwQAAARBBm7xJ\n",
       "qEFsmUwII//+tSqABXMwqA8eNQwA42k4oTVedtKgzKHpDgsHn4Qt8bKKAytRfecXOS4KiscAeS+X\n",
       "PpcXj1aLW1rP7cJ5IjzXbvnexURs+HMQAbTE10yzFy2HQddS4eDPqZJVa1Io2cu5IK9IDJEztPrl\n",
       "5EOKNn+E7c1+cYOJ/sfAUrzZ+q3lxY2rhKsxEgMXMYF7x09UPwb+CdR+ewG8HcrimD78PChSmVCm\n",
       "9ZrlsBnHJZdu9I4XsVXPQClOYRZBVWKmDDCEWp2/j45iJPKaeNeHl1n+2bwzdIzt3VJligB4NCjy\n",
       "OSrLA49V8AlOFoE5FLhGdlYT49rDMPKArwYcRVx4qmG8bOZitYAEvAAAABhBn9pFFSw7/wAEYpUa\n",
       "Mm+/yTyTgERlDscAAAAXAZ/5dEN/AAZHrD6PDU+J7PiUAYEOQMAAAAAXAZ/7akN/AAZIuzeSOoLy\n",
       "Rb5QAirnisEAAACzQZvgSahBbJlMCCH//qpVAArh5TMixoAAOPNH+a3r+gqKNGLA1H0nLVORSc3P\n",
       "243VSz/RQatzilU2VfmIW+ASmewyguFbnWRQxIFENcdA2Ok5vNgz7QvKLiL3mMfqD7qON9GVFiNJ\n",
       "g+oh3K5KzhrumMUO6DC37Mzp34pwJUDnhTz3P/9JqeCv9oGeeDw+w1cnik2X1TpEl4bqsbPAiyoC\n",
       "0I3zi6mz9sjbqzop6qZihTAAIGEAAAAbQZ4eRRUsO/8ABGKVGXoEvCJJUB3fMAFUUtZQAAAAEwGe\n",
       "PXRDfwAGR6wQsdtMARlPXygAAAATAZ4/akN/AAZIuxna1iAAsTmvlQAAAJZBmiRJqEFsmUwIf//+\n",
       "qZYAKmsJ7l64xwA3TVHL8k4KkjNCdorh+5PV1/kuWw5BM/0Ur3BLXP3DULFHtfquwL2tjjwokixw\n",
       "tQvmcR7YK7OTBj5yGIVjlHZIHJ36XPac4YH3e6FeQpiyniC2xY6pUDnedbVQGIr+xUmhThKbr0w7\n",
       "zlIrNA3G1cneoKTtBgto3msFKIAAIOAAAAAYQZ5CRRUsO/8ABGKVExbCvr00rARWdLXRAAAAFwGe\n",
       "YXRDfwAGR6xD0b/vti3lMAOjlZWAAAAAEwGeY2pDfwAGSLsZ2tYgALE5r5UAAAAWQZpnSahBbJlM\n",
       "CG///qeEAAADAAAm4QAAABRBnoZCG/8ABklNaC6SxAAWJ49dwQAAABMBnqVpEN8ABkesELHbTAEZ\n",
       "T18pAAAFD21vb3YAAABsbXZoZAAAAAAAAAAAAAAAAAAAA+gAAA+gAAEAAAEAAAAAAAAAAAAAAAAB\n",
       "AAAAAAAAAAAAAAAAAAAAAQAAAAAAAAAAAAAAAAAAQAAAAAAAAAAAAAAAAAAAAAAAAAAAAAAAAAAA\n",
       "AAAAAAIAAAQ5dHJhawAAAFx0a2hkAAAAAwAAAAAAAAAAAAAAAQAAAAAAAA+gAAAAAAAAAAAAAAAA\n",
       "AAAAAAABAAAAAAAAAAAAAAAAAAAAAQAAAAAAAAAAAAAAAAAAQAAAAAH0AAABkAAAAAAAJGVkdHMA\n",
       "AAAcZWxzdAAAAAAAAAABAAAPoAAACAAAAQAAAAADsW1kaWEAAAAgbWRoZAAAAAAAAAAAAAAAAAAA\n",
       "KAAAAKAAVcQAAAAAAC1oZGxyAAAAAAAAAAB2aWRlAAAAAAAAAAAAAAAAVmlkZW9IYW5kbGVyAAAA\n",
       "A1xtaW5mAAAAFHZtaGQAAAABAAAAAAAAAAAAAAAkZGluZgAAABxkcmVmAAAAAAAAAAEAAAAMdXJs\n",
       "IAAAAAEAAAMcc3RibAAAALRzdHNkAAAAAAAAAAEAAACkYXZjMQAAAAAAAAABAAAAAAAAAAAAAAAA\n",
       "AAAAAAH0AZAASAAAAEgAAAAAAAAAAQAAAAAAAAAAAAAAAAAAAAAAAAAAAAAAAAAAAAAAAAAAABj/\n",
       "/wAAADJhdmNDAWQAFv/hABlnZAAWrNlAgDPn4QAAAwABAAADABQPFi2WAQAGaOvjyyLAAAAAHHV1\n",
       "aWRraEDyXyRPxbo5pRvPAyPzAAAAAAAAABhzdHRzAAAAAAAAAAEAAAAoAAAEAAAAABRzdHNzAAAA\n",
       "AAAAAAEAAAABAAABUGN0dHMAAAAAAAAAKAAAAAEAAAgAAAAAAQAAFAAAAAABAAAIAAAAAAEAAAAA\n",
       "AAAAAQAABAAAAAABAAAUAAAAAAEAAAgAAAAAAQAAAAAAAAABAAAEAAAAAAEAABQAAAAAAQAACAAA\n",
       "AAABAAAAAAAAAAEAAAQAAAAAAQAAFAAAAAABAAAIAAAAAAEAAAAAAAAAAQAABAAAAAABAAAUAAAA\n",
       "AAEAAAgAAAAAAQAAAAAAAAABAAAEAAAAAAEAABQAAAAAAQAACAAAAAABAAAAAAAAAAEAAAQAAAAA\n",
       "AQAAFAAAAAABAAAIAAAAAAEAAAAAAAAAAQAABAAAAAABAAAUAAAAAAEAAAgAAAAAAQAAAAAAAAAB\n",
       "AAAEAAAAAAEAABQAAAAAAQAACAAAAAABAAAAAAAAAAEAAAQAAAAAAQAAEAAAAAABAAAIAAAAAAEA\n",
       "AAAAAAAAHHN0c2MAAAAAAAAAAQAAAAEAAAAoAAAAAQAAALRzdHN6AAAAAAAAAAAAAAAoAAAZcwAA\n",
       "BcEAAAJjAAAEfQAAAWgAAAMAAAAAuQAAAHUAAAAqAAACLwAAAF8AAAAgAAAAJAAAAgcAAAA9AAAA\n",
       "HQAAAB0AAAGyAAAAHwAAABkAAAAZAAABUQAAAB4AAAAZAAAAGwAAARQAAAAcAAAAGwAAABsAAAC3\n",
       "AAAAHwAAABcAAAAXAAAAmgAAABwAAAAbAAAAFwAAABoAAAAYAAAAFwAAABRzdGNvAAAAAAAAAAEA\n",
       "AAAsAAAAYnVkdGEAAABabWV0YQAAAAAAAAAhaGRscgAAAAAAAAAAbWRpcmFwcGwAAAAAAAAAAAAA\n",
       "AAAtaWxzdAAAACWpdG9vAAAAHWRhdGEAAAABAAAAAExhdmY1Ni4zNi4xMDA=\n",
       "\">\n",
       "  Your browser does not support the video tag.\n",
       "</video>"
      ],
      "text/plain": [
       "<matplotlib.animation.FuncAnimation at 0x1b001a42128>"
      ]
     },
     "execution_count": 61,
     "metadata": {},
     "output_type": "execute_result"
    }
   ],
   "source": [
    "fig = plt.figure(dpi=100, figsize=(5,4))\n",
    "plt.scatter(x,y)\n",
    "line, = plt.plot(x, lin(a_guess, b_guess, x))\n",
    "plt.close()\n",
    "def animate(i):\n",
    "    line.set_ydata(lin(a_guess, b_guess, x))\n",
    "    for i in range(10): upd()\n",
    "    return line\n",
    "ani = animation.FuncAnimation(fig, animate, np.arange(0,40), interval=100)\n",
    "ani"
   ]
  },
  {
   "cell_type": "markdown",
   "metadata": {
    "collapsed": true
   },
   "source": [
    "#### SGD"
   ]
  },
  {
   "cell_type": "code",
   "execution_count": 62,
   "metadata": {
    "collapsed": true
   },
   "outputs": [],
   "source": [
    "# Take loss on minibatch of data rather than all data\n",
    "# Minimize frobenius norm of V - WH for NMF\n",
    "# V (m x n) => W (m x d) H (d x n)  d << m,n\n",
    "lam = 1e3\n",
    "lr = 1e-2\n",
    "m,n = vectors_tfidf.shape"
   ]
  },
  {
   "cell_type": "code",
   "execution_count": 63,
   "metadata": {
    "collapsed": true
   },
   "outputs": [],
   "source": [
    "W1 = clf.fit_transform(vectors)\n",
    "H1 = clf.components_"
   ]
  },
  {
   "cell_type": "code",
   "execution_count": 64,
   "metadata": {},
   "outputs": [
    {
     "data": {
      "text/plain": [
       "['jpeg image gif file color images format quality',\n",
       " 'edu graphics pub mail 128 ray ftp send',\n",
       " 'space launch satellite nasa commercial satellites year market',\n",
       " 'jesus god people matthew atheists does atheism said',\n",
       " 'image data available software processing ftp edu analysis']"
      ]
     },
     "execution_count": 64,
     "metadata": {},
     "output_type": "execute_result"
    }
   ],
   "source": [
    "show_topics(H1)"
   ]
  },
  {
   "cell_type": "code",
   "execution_count": 65,
   "metadata": {
    "collapsed": true
   },
   "outputs": [],
   "source": [
    "mu = 1e-6\n",
    "def grads(M,W,H):\n",
    "    R = W @ H-M\n",
    "    return R @ H.T + penalty(W, mu)*lam, W.T @ R + penalty(H, mu)*lam"
   ]
  },
  {
   "cell_type": "code",
   "execution_count": 66,
   "metadata": {
    "collapsed": true
   },
   "outputs": [],
   "source": [
    "# Want non-negative numbers so penalize if number less than or close to 0\n",
    "def penalty(M, mu):\n",
    "    return np.where(M>=mu,0,np.min(M-mu,0))"
   ]
  },
  {
   "cell_type": "code",
   "execution_count": 67,
   "metadata": {
    "collapsed": true
   },
   "outputs": [],
   "source": [
    "# SGD update\n",
    "def upd(M,W,H,lr):\n",
    "    dW,dH = grads(M,W,H)\n",
    "    W -= lr*dW; H -= lr*dH"
   ]
  },
  {
   "cell_type": "code",
   "execution_count": 68,
   "metadata": {
    "collapsed": true
   },
   "outputs": [],
   "source": [
    "# Print out norm, min, and count of negative numbers in W and H\n",
    "def report(M,W,H):\n",
    "    print(np.linalg.norm(M-W @ H), W.min(), H.min(), (W<0).sum(), (H<0).sum())"
   ]
  },
  {
   "cell_type": "code",
   "execution_count": 69,
   "metadata": {
    "collapsed": true
   },
   "outputs": [],
   "source": [
    "# Initialize W and H to random normal\n",
    "W = np.abs(np.random.normal(scale=0.01, size=(m,d)))\n",
    "H = np.abs(np.random.normal(scale=0.01, size=(d,n)))"
   ]
  },
  {
   "cell_type": "code",
   "execution_count": 70,
   "metadata": {},
   "outputs": [
    {
     "name": "stdout",
     "output_type": "stream",
     "text": [
      "44.4250897378 9.04027651612e-07 2.0283021991e-07 0 0\n"
     ]
    }
   ],
   "source": [
    "report(vectors_tfidf, W, H)"
   ]
  },
  {
   "cell_type": "code",
   "execution_count": 71,
   "metadata": {
    "collapsed": true
   },
   "outputs": [],
   "source": [
    "upd(vectors_tfidf, W, H, lr)"
   ]
  },
  {
   "cell_type": "code",
   "execution_count": 72,
   "metadata": {},
   "outputs": [
    {
     "name": "stdout",
     "output_type": "stream",
     "text": [
      "44.4172754146 -0.000868131596573 -7.20859496432e-05 132 300\n"
     ]
    }
   ],
   "source": [
    "report(vectors_tfidf, W, H)"
   ]
  },
  {
   "cell_type": "code",
   "execution_count": 73,
   "metadata": {},
   "outputs": [
    {
     "name": "stdout",
     "output_type": "stream",
     "text": [
      "44.4114804382 -0.00080971229479 -6.36370278342e-05 128 274\n",
      "44.373463549 -0.000448737676938 -4.90287773821e-05 42 497\n",
      "44.344468312 -0.000143338398341 -7.21892049572e-05 34 984\n",
      "44.3123358911 -0.000147257988437 -9.07093635061e-05 32 1513\n",
      "44.2772326898 -0.00015056893157 -0.000130493517453 33 2257\n"
     ]
    }
   ],
   "source": [
    "for i in range(50):\n",
    "    upd(vectors_tfidf, W, H, lr)\n",
    "    if i % 10 == 0: report(vectors_tfidf, W, H)"
   ]
  },
  {
   "cell_type": "code",
   "execution_count": 74,
   "metadata": {},
   "outputs": [
    {
     "data": {
      "text/plain": [
       "['god don space people like just think know',\n",
       " 'space people don just god know like think',\n",
       " 'god space just don like people think know',\n",
       " 'god don does space people think just like',\n",
       " 'space people like god think don just know']"
      ]
     },
     "execution_count": 74,
     "metadata": {},
     "output_type": "execute_result"
    }
   ],
   "source": [
    "show_topics(H)"
   ]
  },
  {
   "cell_type": "markdown",
   "metadata": {},
   "source": [
    "#### PyTorch"
   ]
  },
  {
   "cell_type": "code",
   "execution_count": 75,
   "metadata": {
    "collapsed": true
   },
   "outputs": [],
   "source": [
    "# Tensor and Neural Network framework with GPU acceleration\n",
    "import torch\n",
    "import torch.cuda as tc\n",
    "from torch.autograd import Variable"
   ]
  },
  {
   "cell_type": "code",
   "execution_count": 76,
   "metadata": {
    "collapsed": true
   },
   "outputs": [],
   "source": [
    "# requires_grad enables taking derivative of function\n",
    "def V(M): return Variable(M, requires_grad=True)"
   ]
  },
  {
   "cell_type": "code",
   "execution_count": 77,
   "metadata": {
    "collapsed": true
   },
   "outputs": [],
   "source": [
    "v = vectors_tfidf.todense()"
   ]
  },
  {
   "cell_type": "code",
   "execution_count": 78,
   "metadata": {
    "collapsed": true
   },
   "outputs": [],
   "source": [
    "# Need to declare type for tensor \n",
    "t_vectors = torch.Tensor(v.astype(np.float32)).cuda()"
   ]
  },
  {
   "cell_type": "code",
   "execution_count": 79,
   "metadata": {
    "collapsed": true
   },
   "outputs": [],
   "source": [
    "mu = 1e-5"
   ]
  },
  {
   "cell_type": "code",
   "execution_count": 80,
   "metadata": {
    "collapsed": true
   },
   "outputs": [],
   "source": [
    "# mm -> Matrix multiply\n",
    "def grads_t(M,W,H):\n",
    "    R = W.mm(H)-M\n",
    "    return (R.mm(H.t()) + penalty_t(W,mu)*lam,\n",
    "            W.t().mm(R) + penalty_t(H,mu)*lam)\n",
    "\n",
    "def penalty_t(M,mu):\n",
    "    return (M<mu).type(tc.FloatTensor)*torch.clamp(M-mu, max=0.)\n",
    "\n",
    "def upd_t(M,W,H,lr):\n",
    "    dW,dH = grads_t(M,W,H)\n",
    "    W.sub_(lr*dW); H.sub_(lr*dH)\n",
    "\n",
    "def report_t(M,W,H):\n",
    "    print((M-W.mm(H)).norm(2), W.min(), H.min(), (W<0).sum(), (H<0).sum())"
   ]
  },
  {
   "cell_type": "code",
   "execution_count": 81,
   "metadata": {},
   "outputs": [
    {
     "data": {
      "text/plain": [
       "\n",
       " 9.5713e-03  8.4992e-03  1.0574e-02  ...   1.1156e-02  4.3517e-04  1.1239e-02\n",
       " 1.2632e-02  1.7841e-02  1.2826e-02  ...   1.1884e-02  9.8711e-04  1.0657e-02\n",
       " 5.3668e-03  1.5089e-02  5.0358e-03  ...   2.0782e-02  4.1053e-03  1.1267e-02\n",
       " 5.2696e-03  8.3848e-03  5.9839e-04  ...   4.7377e-03  1.1898e-02  6.0022e-03\n",
       " 5.1287e-03  1.2928e-02  5.1505e-03  ...   9.1989e-03  2.2584e-03  7.8100e-03\n",
       "[torch.cuda.FloatTensor of size 5x26576 (GPU 0)]"
      ]
     },
     "execution_count": 81,
     "metadata": {},
     "output_type": "execute_result"
    }
   ],
   "source": [
    "# Declare float tensor\n",
    "t_W = tc.FloatTensor(m,d)\n",
    "t_H = tc.FloatTensor(d,n)\n",
    "t_W.normal_(std=0.01).abs_()\n",
    "t_H.normal_(std=0.01).abs_()"
   ]
  },
  {
   "cell_type": "code",
   "execution_count": 82,
   "metadata": {
    "collapsed": true
   },
   "outputs": [],
   "source": [
    "d=6; lam=100; lr=0.05"
   ]
  },
  {
   "cell_type": "code",
   "execution_count": 83,
   "metadata": {},
   "outputs": [
    {
     "name": "stdout",
     "output_type": "stream",
     "text": [
      "44.39395523071289 -0.004677398595958948 -0.0005056614754721522 802 1417\n",
      "43.767066955566406 -0.01113872230052948 -0.0106318024918437 1511 17737\n",
      "43.75174331665039 -0.008106151595711708 -0.010179281234741211 1679 18949\n",
      "43.746421813964844 -0.00828084908425808 -0.011464903131127357 1786 19592\n",
      "43.73964309692383 -0.009596556425094604 -0.007980871014297009 2024 19260\n",
      "43.729209899902344 -0.007047372870147228 -0.005468767136335373 2460 19411\n",
      "43.72320556640625 -0.0042953165248036385 -0.004565082490444183 2424 17996\n",
      "43.722293853759766 -0.003415839048102498 -0.006910840980708599 2112 19089\n",
      "43.722129821777344 -0.00465413136407733 -0.007211850490421057 2015 19302\n",
      "43.72193145751953 -0.004218253772705793 -0.005811680573970079 2266 22520\n"
     ]
    }
   ],
   "source": [
    "# Much faster\n",
    "for i in range(1000):\n",
    "    upd_t(t_vectors, t_W, t_H, lr)\n",
    "    if i % 100 == 0:\n",
    "        report_t(t_vectors, t_W, t_H)\n",
    "        lr *= 0.9  # Learning rate annealing as you get closer to convergence"
   ]
  },
  {
   "cell_type": "code",
   "execution_count": 84,
   "metadata": {},
   "outputs": [
    {
     "data": {
      "text/plain": [
       "['god people jesus don bible just say believe',\n",
       " 'ico bobbe tek beauchaine bronx manhattan sank queens',\n",
       " 'graphics thanks files image file program know windows',\n",
       " 'objective morality moral values think subjective people science',\n",
       " 'space nasa launch shuttle moon orbit lunar earth']"
      ]
     },
     "execution_count": 84,
     "metadata": {},
     "output_type": "execute_result"
    }
   ],
   "source": [
    "show_topics(t_H.cpu().numpy())"
   ]
  },
  {
   "cell_type": "code",
   "execution_count": 85,
   "metadata": {},
   "outputs": [
    {
     "data": {
      "image/png": "[encoded data removed]",
      "text/plain": [
       "<matplotlib.figure.Figure at 0x1b0028e8748>"
      ]
     },
     "metadata": {},
     "output_type": "display_data"
    }
   ],
   "source": [
    "plt.plot(t_H.cpu().numpy()[0]);"
   ]
  },
  {
   "cell_type": "code",
   "execution_count": 86,
   "metadata": {},
   "outputs": [
    {
     "data": {
      "text/plain": [
       "0.3580"
      ]
     },
     "execution_count": 86,
     "metadata": {},
     "output_type": "execute_result"
    }
   ],
   "source": [
    "t_W.mm(t_H).max()"
   ]
  },
  {
   "cell_type": "code",
   "execution_count": 87,
   "metadata": {},
   "outputs": [
    {
     "data": {
      "text/plain": [
       "1.0000"
      ]
     },
     "execution_count": 87,
     "metadata": {},
     "output_type": "execute_result"
    }
   ],
   "source": [
    "t_vectors.max()"
   ]
  },
  {
   "cell_type": "markdown",
   "metadata": {},
   "source": [
    "#### Pytorch Autograd"
   ]
  },
  {
   "cell_type": "code",
   "execution_count": 103,
   "metadata": {},
   "outputs": [
    {
     "name": "stdout",
     "output_type": "stream",
     "text": [
      "Variable containing:\n",
      " 1  1\n",
      " 1  1\n",
      "[torch.FloatTensor of size 2x2]\n",
      "\n"
     ]
    }
   ],
   "source": [
    "# Instead of calculating gradients by hand pytorch computes automatically\n",
    "x = Variable(torch.ones(2,2), requires_grad=True); print(x)"
   ]
  },
  {
   "cell_type": "code",
   "execution_count": 104,
   "metadata": {},
   "outputs": [
    {
     "name": "stdout",
     "output_type": "stream",
     "text": [
      "\n",
      " 1  1\n",
      " 1  1\n",
      "[torch.FloatTensor of size 2x2]\n",
      "\n"
     ]
    }
   ],
   "source": [
    "print(x.data)"
   ]
  },
  {
   "cell_type": "code",
   "execution_count": 106,
   "metadata": {},
   "outputs": [
    {
     "name": "stdout",
     "output_type": "stream",
     "text": [
      "None\n"
     ]
    }
   ],
   "source": [
    "# pytorch lazy loads gradient so does not compute unless actually useing backprop\n",
    "print(x.grad)"
   ]
  },
  {
   "cell_type": "code",
   "execution_count": 107,
   "metadata": {},
   "outputs": [
    {
     "data": {
      "text/plain": [
       "Variable containing:\n",
       " 3  3\n",
       " 3  3\n",
       "[torch.FloatTensor of size 2x2]"
      ]
     },
     "execution_count": 107,
     "metadata": {},
     "output_type": "execute_result"
    }
   ],
   "source": [
    "y = x + 2; y"
   ]
  },
  {
   "cell_type": "code",
   "execution_count": 108,
   "metadata": {},
   "outputs": [
    {
     "data": {
      "text/plain": [
       "(Variable containing:\n",
       "  27  27\n",
       "  27  27\n",
       " [torch.FloatTensor of size 2x2], Variable containing:\n",
       "  108\n",
       " [torch.FloatTensor of size 1])"
      ]
     },
     "execution_count": 108,
     "metadata": {},
     "output_type": "execute_result"
    }
   ],
   "source": [
    "z = y * y * 3\n",
    "out = z.sum(); (z, out)"
   ]
  },
  {
   "cell_type": "code",
   "execution_count": 109,
   "metadata": {},
   "outputs": [
    {
     "data": {
      "text/plain": [
       "Variable containing:\n",
       " 18  18\n",
       " 18  18\n",
       "[torch.FloatTensor of size 2x2]"
      ]
     },
     "execution_count": 109,
     "metadata": {},
     "output_type": "execute_result"
    }
   ],
   "source": [
    "# Now x.grad populated\n",
    "out.backward(); x.grad"
   ]
  },
  {
   "cell_type": "markdown",
   "metadata": {},
   "source": [
    "#### Autograd and NMF"
   ]
  },
  {
   "cell_type": "code",
   "execution_count": 110,
   "metadata": {
    "collapsed": true
   },
   "outputs": [],
   "source": [
    "lam = 1e6"
   ]
  },
  {
   "cell_type": "code",
   "execution_count": 112,
   "metadata": {},
   "outputs": [
    {
     "data": {
      "text/plain": [
       "\n",
       " 2.9598e-04  8.5393e-03  1.6649e-02  ...   1.2663e-02  1.5434e-03  8.6773e-03\n",
       " 3.0736e-03  6.6233e-03  6.6503e-03  ...   8.0250e-03  9.2719e-03  1.3552e-02\n",
       " 7.3933e-03  8.8740e-06  1.4338e-03  ...   2.7446e-04  1.3619e-02  2.3602e-03\n",
       " 1.1303e-02  5.1680e-03  9.2259e-03  ...   2.8507e-03  5.9584e-04  8.8146e-03\n",
       " 2.7064e-03  1.3218e-03  1.0073e-02  ...   2.3849e-03  7.0625e-03  1.3083e-03\n",
       " 7.5394e-04  1.6737e-02  1.0753e-03  ...   1.3983e-02  5.3402e-03  8.9210e-03\n",
       "[torch.cuda.FloatTensor of size 6x26576 (GPU 0)]"
      ]
     },
     "execution_count": 112,
     "metadata": {},
     "output_type": "execute_result"
    }
   ],
   "source": [
    "pW = Variable(tc.FloatTensor(m,d), requires_grad=True)\n",
    "pH = Variable(tc.FloatTensor(d,n), requires_grad=True)\n",
    "pW.data.normal_(std=0.01).abs_()\n",
    "pH.data.normal_(std=0.01).abs_()"
   ]
  },
  {
   "cell_type": "code",
   "execution_count": 113,
   "metadata": {
    "collapsed": true
   },
   "outputs": [],
   "source": [
    "def report():\n",
    "    W,H = pW.data, pH.data\n",
    "    print((M-pW.mm(pH)).norm(2).data[0], W.min(), H.min(), (W<0).sum(), (H<0).sum())\n",
    "    \n",
    "def penalty(A):\n",
    "    return torch.pow((A<0).type(tc.FloatTensor)*torch.clamp(A, max=0), 2) # penalize non-zero values\n",
    "\n",
    "def penalize(): return penalty(pW).mean() + penalty(pH).mean()\n",
    "\n",
    "def loss(): return (M-pW.mm(pH)).norm(2) + penalize()*lam"
   ]
  },
  {
   "cell_type": "code",
   "execution_count": 114,
   "metadata": {
    "collapsed": true
   },
   "outputs": [],
   "source": [
    "M = Variable(t_vectors).cuda()"
   ]
  },
  {
   "cell_type": "code",
   "execution_count": 115,
   "metadata": {},
   "outputs": [
    {
     "name": "stdout",
     "output_type": "stream",
     "text": [
      "44.438961029052734 2.70426085080544e-07 2.726671937125502e-07 0 0\n"
     ]
    }
   ],
   "source": [
    "opt = torch.optim.Adam([pW, pH], lr=1e-3, betas=(0.9,0.9))\n",
    "lr = 0.05\n",
    "report()"
   ]
  },
  {
   "cell_type": "code",
   "execution_count": 116,
   "metadata": {},
   "outputs": [
    {
     "name": "stdout",
     "output_type": "stream",
     "text": [
      "43.96426010131836 -0.0009789481991901994 -0.0010311532532796264 253 11964\n",
      "43.79411315917969 -0.0006695807096548378 -0.0013703963486477733 236 14008\n",
      "43.737125396728516 -0.0003677647328004241 -0.0012608981924131513 240 13443\n",
      "43.70539093017578 -0.00032135829678736627 -0.0013043914223089814 243 13097\n",
      "43.6846809387207 -0.00029364085639826953 -0.0008794669411145151 243 13072\n",
      "43.6696891784668 -0.0002806742559187114 -0.000734308734536171 256 12694\n",
      "43.65935516357422 -0.00028149489662609994 -0.0006711831083521247 237 12101\n",
      "43.65489196777344 -0.00027146004140377045 -0.0005588411586359143 251 11072\n",
      "43.65264892578125 -0.0002692656125873327 -0.0005654384731315076 298 10415\n",
      "43.65132141113281 -0.00025799497961997986 -0.00047102008829824626 295 9323\n"
     ]
    }
   ],
   "source": [
    "for i in range(1000):\n",
    "    opt.zero_grad() # Clear gradients\n",
    "    l = loss()  # NMF\n",
    "    l.backward() # backprop gradients\n",
    "    opt.step() # Perform optimization step\n",
    "    if i % 100 == 99:\n",
    "        report()\n",
    "        lr *= 0.9"
   ]
  },
  {
   "cell_type": "code",
   "execution_count": 119,
   "metadata": {},
   "outputs": [
    {
     "data": {
      "text/plain": [
       "['god jesus bible believe atheism christian does belief',\n",
       " 'ico bobbe tek beauchaine bronx manhattan sank queens',\n",
       " 'objective morality values moral subjective science absolute claim',\n",
       " 'space nasa launch shuttle orbit lunar moon earth',\n",
       " 'thanks graphics files image file program windows format',\n",
       " 'don people think just like know say religion']"
      ]
     },
     "execution_count": 119,
     "metadata": {},
     "output_type": "execute_result"
    }
   ],
   "source": [
    "h = pH.data.cpu().numpy()\n",
    "show_topics(h)"
   ]
  },
  {
   "cell_type": "code",
   "execution_count": 120,
   "metadata": {},
   "outputs": [
    {
     "data": {
      "text/plain": [
       "[<matplotlib.lines.Line2D at 0x1b05958f2b0>]"
      ]
     },
     "execution_count": 120,
     "metadata": {},
     "output_type": "execute_result"
    },
    {
     "data": {
      "image/png": "[encoded data removed]",
      "text/plain": [
       "<matplotlib.figure.Figure at 0x1b0028ec1d0>"
      ]
     },
     "metadata": {},
     "output_type": "display_data"
    }
   ],
   "source": [
    "plt.plot(h[0])"
   ]
  },
  {
   "cell_type": "code",
   "execution_count": null,
   "metadata": {
    "collapsed": true
   },
   "outputs": [],
   "source": []
  }
 ],
 "metadata": {
  "kernelspec": {
   "display_name": "Python 3",
   "language": "python",
   "name": "python3"
  },
  "language_info": {
   "codemirror_mode": {
    "name": "ipython",
    "version": 3
   },
   "file_extension": ".py",
   "mimetype": "text/x-python",
   "name": "python",
   "nbconvert_exporter": "python",
   "pygments_lexer": "ipython3",
   "version": "3.6.3"
  }
 },
 "nbformat": 4,
 "nbformat_minor": 2
}
